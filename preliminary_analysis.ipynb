{
 "cells": [
  {
   "cell_type": "code",
   "execution_count": 158,
   "metadata": {
    "collapsed": true
   },
   "outputs": [],
   "source": [
    "import pandas as pd\n",
    "import xlrd\n",
    "import numpy as np\n",
    "import matplotlib.pyplot as plt\n",
    "%matplotlib inline\n",
    "pd.options.display.max_columns = 10\n",
    "pd.options.display.max_rows = 10\n",
    "import sklearn\n",
    "from sklearn.linear_model import LinearRegression"
   ]
  },
  {
   "cell_type": "code",
   "execution_count": 200,
   "metadata": {},
   "outputs": [],
   "source": [
    "total_data = pd.read_csv(\"/users/siyaogu/Desktop/ORIE4741/Final_Project/county_analysis/clean_data_v3.csv\")"
   ]
  },
  {
   "cell_type": "code",
   "execution_count": 4,
   "metadata": {},
   "outputs": [
    {
     "data": {
      "text/html": [
       "<div>\n",
       "<style>\n",
       "    .dataframe thead tr:only-child th {\n",
       "        text-align: right;\n",
       "    }\n",
       "\n",
       "    .dataframe thead th {\n",
       "        text-align: left;\n",
       "    }\n",
       "\n",
       "    .dataframe tbody tr th {\n",
       "        vertical-align: top;\n",
       "    }\n",
       "</style>\n",
       "<table border=\"1\" class=\"dataframe\">\n",
       "  <thead>\n",
       "    <tr style=\"text-align: right;\">\n",
       "      <th></th>\n",
       "      <th>Health Service Area</th>\n",
       "      <th>Hospital County</th>\n",
       "      <th>Operating Certificate Number</th>\n",
       "      <th>Facility ID</th>\n",
       "      <th>Facility Name</th>\n",
       "      <th>Age Group</th>\n",
       "      <th>Zip Code - 3 digits</th>\n",
       "      <th>Gender</th>\n",
       "      <th>Race</th>\n",
       "      <th>Ethnicity</th>\n",
       "      <th>Length of Stay</th>\n",
       "      <th>Type of Admission</th>\n",
       "      <th>Patient Disposition</th>\n",
       "      <th>Discharge Year</th>\n",
       "      <th>CCS Diagnosis Code</th>\n",
       "      <th>CCS Diagnosis Description</th>\n",
       "      <th>CCS Procedure Code</th>\n",
       "      <th>CCS Procedure Description</th>\n",
       "      <th>APR DRG Code</th>\n",
       "      <th>APR DRG Description</th>\n",
       "      <th>APR MDC Code</th>\n",
       "      <th>APR MDC Description</th>\n",
       "      <th>APR Severity of Illness Code</th>\n",
       "      <th>APR Severity of Illness Description</th>\n",
       "      <th>APR Risk of Mortality</th>\n",
       "      <th>APR Medical Surgical Description</th>\n",
       "      <th>Payment Typology 1</th>\n",
       "      <th>Payment Typology 2</th>\n",
       "      <th>Payment Typology 3</th>\n",
       "      <th>Attending Provider License Number</th>\n",
       "      <th>Operating Provider License Number</th>\n",
       "      <th>Other Provider License Number</th>\n",
       "      <th>Birth Weight</th>\n",
       "      <th>Abortion Edit Indicator</th>\n",
       "      <th>Emergency Department Indicator</th>\n",
       "      <th>Total Charges</th>\n",
       "      <th>Total Costs</th>\n",
       "      <th>Age Group Indicator</th>\n",
       "      <th>Admission Type Indicator</th>\n",
       "      <th>Patient Disposition Indicator</th>\n",
       "    </tr>\n",
       "  </thead>\n",
       "  <tbody>\n",
       "    <tr>\n",
       "      <th>0</th>\n",
       "      <td>Western NY</td>\n",
       "      <td>Allegany</td>\n",
       "      <td>226700.0</td>\n",
       "      <td>37.0</td>\n",
       "      <td>Cuba Memorial Hospital Inc</td>\n",
       "      <td>30 to 49</td>\n",
       "      <td>147</td>\n",
       "      <td>F</td>\n",
       "      <td>White</td>\n",
       "      <td>Not Span/Hispanic</td>\n",
       "      <td>4</td>\n",
       "      <td>Elective</td>\n",
       "      <td>Home or Self Care</td>\n",
       "      <td>2012</td>\n",
       "      <td>122</td>\n",
       "      <td>Pneumonia (except that caused by tuberculosis ...</td>\n",
       "      <td>0</td>\n",
       "      <td>NO PROC</td>\n",
       "      <td>139</td>\n",
       "      <td>Other pneumonia</td>\n",
       "      <td>4</td>\n",
       "      <td>Diseases and Disorders of the Respiratory System</td>\n",
       "      <td>1</td>\n",
       "      <td>Minor</td>\n",
       "      <td>Minor</td>\n",
       "      <td>Medical</td>\n",
       "      <td>Blue Cross/Blue Shield</td>\n",
       "      <td>NaN</td>\n",
       "      <td>NaN</td>\n",
       "      <td>90301264.0</td>\n",
       "      <td>NaN</td>\n",
       "      <td>NaN</td>\n",
       "      <td>0</td>\n",
       "      <td>N</td>\n",
       "      <td>Y</td>\n",
       "      <td>5511.95</td>\n",
       "      <td>$5582.49</td>\n",
       "      <td>2</td>\n",
       "      <td>3</td>\n",
       "      <td>18</td>\n",
       "    </tr>\n",
       "  </tbody>\n",
       "</table>\n",
       "</div>"
      ],
      "text/plain": [
       "  Health Service Area Hospital County  Operating Certificate Number  \\\n",
       "0          Western NY        Allegany                      226700.0   \n",
       "\n",
       "   Facility ID               Facility Name Age Group Zip Code - 3 digits  \\\n",
       "0         37.0  Cuba Memorial Hospital Inc  30 to 49                 147   \n",
       "\n",
       "  Gender   Race          Ethnicity Length of Stay Type of Admission  \\\n",
       "0      F  White  Not Span/Hispanic              4          Elective   \n",
       "\n",
       "  Patient Disposition  Discharge Year  CCS Diagnosis Code  \\\n",
       "0   Home or Self Care            2012                 122   \n",
       "\n",
       "                           CCS Diagnosis Description  CCS Procedure Code  \\\n",
       "0  Pneumonia (except that caused by tuberculosis ...                   0   \n",
       "\n",
       "  CCS Procedure Description  APR DRG Code APR DRG Description  APR MDC Code  \\\n",
       "0                   NO PROC           139     Other pneumonia             4   \n",
       "\n",
       "                                APR MDC Description  \\\n",
       "0  Diseases and Disorders of the Respiratory System   \n",
       "\n",
       "   APR Severity of Illness Code APR Severity of Illness Description  \\\n",
       "0                             1                               Minor   \n",
       "\n",
       "  APR Risk of Mortality APR Medical Surgical Description  \\\n",
       "0                 Minor                          Medical   \n",
       "\n",
       "       Payment Typology 1 Payment Typology 2 Payment Typology 3  \\\n",
       "0  Blue Cross/Blue Shield                NaN                NaN   \n",
       "\n",
       "   Attending Provider License Number  Operating Provider License Number  \\\n",
       "0                         90301264.0                                NaN   \n",
       "\n",
       "   Other Provider License Number  Birth Weight Abortion Edit Indicator  \\\n",
       "0                            NaN             0                       N   \n",
       "\n",
       "  Emergency Department Indicator  Total Charges Total Costs  \\\n",
       "0                              Y        5511.95    $5582.49   \n",
       "\n",
       "   Age Group Indicator  Admission Type Indicator  \\\n",
       "0                    2                         3   \n",
       "\n",
       "   Patient Disposition Indicator  \n",
       "0                             18  "
      ]
     },
     "execution_count": 4,
     "metadata": {},
     "output_type": "execute_result"
    }
   ],
   "source": [
    "# Select columns that we will use\n",
    "total_data.head(1)"
   ]
  },
  {
   "cell_type": "code",
   "execution_count": 9,
   "metadata": {},
   "outputs": [
    {
     "data": {
      "text/plain": [
       "Gender\n",
       "F    1150685\n",
       "M     840085\n",
       "U         56\n",
       "dtype: int64"
      ]
     },
     "execution_count": 9,
     "metadata": {},
     "output_type": "execute_result"
    }
   ],
   "source": [
    "total_data.groupby(\"Gender\").size().sort_values(ascending=False)"
   ]
  },
  {
   "cell_type": "markdown",
   "metadata": {},
   "source": [
    "Gender: categorical, F/M/U, will probably delete U."
   ]
  },
  {
   "cell_type": "code",
   "execution_count": 10,
   "metadata": {},
   "outputs": [
    {
     "data": {
      "text/plain": [
       "Race\n",
       "White                     1152488\n",
       "Other Race                 472523\n",
       "Black/African American     358743\n",
       "Unknown                      7072\n",
       "dtype: int64"
      ]
     },
     "execution_count": 10,
     "metadata": {},
     "output_type": "execute_result"
    }
   ],
   "source": [
    "total_data.groupby(\"Race\").size().sort_values(ascending=False)"
   ]
  },
  {
   "cell_type": "markdown",
   "metadata": {},
   "source": [
    "Race: categorical, White/Other Race/Black,African American/Unknown, will probably delete unknown."
   ]
  },
  {
   "cell_type": "code",
   "execution_count": 201,
   "metadata": {},
   "outputs": [
    {
     "data": {
      "text/plain": [
       "Length of Stay\n",
       "2      471511\n",
       "3      368080\n",
       "1      295605\n",
       "4      211458\n",
       "5      129964\n",
       "        ...  \n",
       "110        42\n",
       "107        40\n",
       "113        40\n",
       "117        39\n",
       "114        37\n",
       "Length: 120, dtype: int64"
      ]
     },
     "execution_count": 201,
     "metadata": {},
     "output_type": "execute_result"
    }
   ],
   "source": [
    "total_data.loc[total_data['Length of Stay']=='120 +','Length of Stay']=120 \n",
    "total_data['Length of Stay'] = pd.to_numeric(total_data['Length of Stay'])\n",
    "total_data.groupby(\"Length of Stay\").size().sort_values(ascending=False)"
   ]
  },
  {
   "cell_type": "markdown",
   "metadata": {},
   "source": [
    "Length of stay: numeric."
   ]
  },
  {
   "cell_type": "code",
   "execution_count": 24,
   "metadata": {},
   "outputs": [
    {
     "data": {
      "text/plain": [
       "APR DRG Code\n",
       "0      1334000\n",
       "640     207578\n",
       "560     151638\n",
       "540      79687\n",
       "720      66785\n",
       "194      53957\n",
       "139      49791\n",
       "140      47390\n",
       "dtype: int64"
      ]
     },
     "execution_count": 24,
     "metadata": {},
     "output_type": "execute_result"
    }
   ],
   "source": [
    "total_data.groupby(\"APR DRG Code\").size().sort_values(ascending=False)"
   ]
  },
  {
   "cell_type": "markdown",
   "metadata": {},
   "source": [
    "APR DRG Code: categorical, indicating the type of treatment. 0/640/560/540/720/194/139/140. 0 indicates \"others\"."
   ]
  },
  {
   "cell_type": "code",
   "execution_count": 187,
   "metadata": {},
   "outputs": [
    {
     "data": {
      "text/plain": [
       "APR Severity of Illness Description\n",
       "Minor       720057\n",
       "Moderate    700684\n",
       "Major       423793\n",
       "Extreme     139164\n",
       "dtype: int64"
      ]
     },
     "execution_count": 187,
     "metadata": {},
     "output_type": "execute_result"
    }
   ],
   "source": [
    "total_data.groupby(\"APR Severity of Illness Description\").size().sort_values(ascending=False)"
   ]
  },
  {
   "cell_type": "markdown",
   "metadata": {},
   "source": [
    "APR Severity of Illness Description: categorical. 1/2/3/4. 1: minor, 4:extreme."
   ]
  },
  {
   "cell_type": "code",
   "execution_count": 202,
   "metadata": {},
   "outputs": [
    {
     "data": {
      "text/plain": [
       "Abortion Edit Indicator\n",
       "N_abor    1987873\n",
       "Y_abor       2953\n",
       "dtype: int64"
      ]
     },
     "execution_count": 202,
     "metadata": {},
     "output_type": "execute_result"
    }
   ],
   "source": [
    "total_data.loc[total_data['Abortion Edit Indicator'] == 'N', 'Abortion Edit Indicator'] = 'N_abor'\n",
    "total_data.loc[total_data['Abortion Edit Indicator'] == 'Y', 'Abortion Edit Indicator'] = 'Y_abor'\n",
    "total_data.groupby(\"Abortion Edit Indicator\").size().sort_values(ascending=False)"
   ]
  },
  {
   "cell_type": "markdown",
   "metadata": {},
   "source": [
    "Abortion Edit Indicator: categorical. N/Y."
   ]
  },
  {
   "cell_type": "code",
   "execution_count": 203,
   "metadata": {},
   "outputs": [
    {
     "data": {
      "text/plain": [
       "Emergency Department Indicator\n",
       "Y_emer    1159570\n",
       "N_emer     831256\n",
       "dtype: int64"
      ]
     },
     "execution_count": 203,
     "metadata": {},
     "output_type": "execute_result"
    }
   ],
   "source": [
    "total_data.loc[total_data['Emergency Department Indicator'] == 'N', 'Emergency Department Indicator'] = 'N_emer'\n",
    "total_data.loc[total_data['Emergency Department Indicator'] == 'Y', 'Emergency Department Indicator'] = 'Y_emer'\n",
    "total_data.groupby(\"Emergency Department Indicator\").size().sort_values(ascending=False)"
   ]
  },
  {
   "cell_type": "markdown",
   "metadata": {},
   "source": [
    "Emergency Department Indicator: categorical. Y/N."
   ]
  },
  {
   "cell_type": "code",
   "execution_count": 204,
   "metadata": {},
   "outputs": [
    {
     "data": {
      "text/plain": [
       "Age Group Indicator\n",
       "4_age    570253\n",
       "3_age    495608\n",
       "2_age    366267\n",
       "0_age    340107\n",
       "1_age    218591\n",
       "dtype: int64"
      ]
     },
     "execution_count": 204,
     "metadata": {},
     "output_type": "execute_result"
    }
   ],
   "source": [
    "total_data.loc[total_data['Age Group Indicator'] == 0, 'Age Group Indicator'] = '0_age'\n",
    "total_data.loc[total_data['Age Group Indicator'] == 1, 'Age Group Indicator'] = '1_age'\n",
    "total_data.loc[total_data['Age Group Indicator'] == 2, 'Age Group Indicator'] = '2_age'\n",
    "total_data.loc[total_data['Age Group Indicator'] == 3, 'Age Group Indicator'] = '3_age'\n",
    "total_data.loc[total_data['Age Group Indicator'] == 4, 'Age Group Indicator'] = '4_age'\n",
    "total_data.groupby(\"Age Group Indicator\").size().sort_values(ascending=False)"
   ]
  },
  {
   "cell_type": "markdown",
   "metadata": {},
   "source": [
    "Age Group Indicator: categorical. 4/3/2/1/0."
   ]
  },
  {
   "cell_type": "code",
   "execution_count": 205,
   "metadata": {},
   "outputs": [
    {
     "data": {
      "text/plain": [
       "Admission Type Indicator\n",
       "1_admin    1228454\n",
       "3_admin     348381\n",
       "4_admin     237301\n",
       "2_admin     172853\n",
       "5_admin       2354\n",
       "0_admin       1483\n",
       "dtype: int64"
      ]
     },
     "execution_count": 205,
     "metadata": {},
     "output_type": "execute_result"
    }
   ],
   "source": [
    "total_data.loc[total_data['Admission Type Indicator'] == 0, 'Admission Type Indicator'] = '0_admin'\n",
    "total_data.loc[total_data['Admission Type Indicator'] == 1, 'Admission Type Indicator'] = '1_admin'\n",
    "total_data.loc[total_data['Admission Type Indicator'] == 2, 'Admission Type Indicator'] = '2_admin'\n",
    "total_data.loc[total_data['Admission Type Indicator'] == 3, 'Admission Type Indicator'] = '3_admin'\n",
    "total_data.loc[total_data['Admission Type Indicator'] == 4, 'Admission Type Indicator'] = '4_admin'\n",
    "total_data.loc[total_data['Admission Type Indicator'] == 5, 'Admission Type Indicator'] = '5_admin'\n",
    "total_data.groupby(\"Admission Type Indicator\").size().sort_values(ascending=False)"
   ]
  },
  {
   "cell_type": "markdown",
   "metadata": {},
   "source": [
    "Admission Type Indicator: categorical. 0/1/2/3/4/5."
   ]
  },
  {
   "cell_type": "code",
   "execution_count": 207,
   "metadata": {},
   "outputs": [
    {
     "data": {
      "text/plain": [
       "Patient Disposition Indicator\n",
       "18_dispo    1354596\n",
       "17_dispo     246006\n",
       "16_dispo     201246\n",
       "15_dispo      45613\n",
       "14_dispo      37563\n",
       "             ...   \n",
       "4_dispo        2294\n",
       "3_dispo        1500\n",
       "2_dispo         505\n",
       "1_dispo         138\n",
       "0_dispo          34\n",
       "Length: 19, dtype: int64"
      ]
     },
     "execution_count": 207,
     "metadata": {},
     "output_type": "execute_result"
    }
   ],
   "source": [
    "total_data.loc[total_data['Patient Disposition Indicator'] == 0, 'Patient Disposition Indicator'] = '0_dispo'\n",
    "total_data.loc[total_data['Patient Disposition Indicator'] == 1, 'Patient Disposition Indicator'] = '1_dispo'\n",
    "total_data.loc[total_data['Patient Disposition Indicator'] == 2, 'Patient Disposition Indicator'] = '2_dispo'\n",
    "total_data.loc[total_data['Patient Disposition Indicator'] == 3, 'Patient Disposition Indicator'] = '3_dispo'\n",
    "total_data.loc[total_data['Patient Disposition Indicator'] == 4, 'Patient Disposition Indicator'] = '4_dispo'\n",
    "total_data.loc[total_data['Patient Disposition Indicator'] == 5, 'Patient Disposition Indicator'] = '5_dispo'\n",
    "total_data.loc[total_data['Patient Disposition Indicator'] == 6, 'Patient Disposition Indicator'] = '6_dispo'\n",
    "total_data.loc[total_data['Patient Disposition Indicator'] == 7, 'Patient Disposition Indicator'] = '7_dispo'\n",
    "total_data.loc[total_data['Patient Disposition Indicator'] == 8, 'Patient Disposition Indicator'] = '8_dispo'\n",
    "total_data.loc[total_data['Patient Disposition Indicator'] == 9, 'Patient Disposition Indicator'] = '9_dispo'\n",
    "total_data.loc[total_data['Patient Disposition Indicator'] == 10, 'Patient Disposition Indicator'] = '10_dispo'\n",
    "total_data.loc[total_data['Patient Disposition Indicator'] == 11, 'Patient Disposition Indicator'] = '11_dispo'\n",
    "total_data.loc[total_data['Patient Disposition Indicator'] == 12, 'Patient Disposition Indicator'] = '12_dispo'\n",
    "total_data.loc[total_data['Patient Disposition Indicator'] == 13, 'Patient Disposition Indicator'] = '13_dispo'\n",
    "total_data.loc[total_data['Patient Disposition Indicator'] == 14, 'Patient Disposition Indicator'] = '14_dispo'\n",
    "total_data.loc[total_data['Patient Disposition Indicator'] == 15, 'Patient Disposition Indicator'] = '15_dispo'\n",
    "total_data.loc[total_data['Patient Disposition Indicator'] == 16, 'Patient Disposition Indicator'] = '16_dispo'\n",
    "total_data.loc[total_data['Patient Disposition Indicator'] == 17, 'Patient Disposition Indicator'] = '17_dispo'\n",
    "total_data.loc[total_data['Patient Disposition Indicator'] == 18, 'Patient Disposition Indicator'] = '18_dispo'\n",
    "total_data.groupby(\"Patient Disposition Indicator\").size().sort_values(ascending=False)"
   ]
  },
  {
   "cell_type": "markdown",
   "metadata": {},
   "source": [
    "Patient Disposition Indicator: categorical. 0-18."
   ]
  },
  {
   "cell_type": "markdown",
   "metadata": {},
   "source": [
    "The x's: Gender, Race, Length of Stay, APR DRG Code, APR Severity of Illness Description, Abortion Edit Indicator, Emergency Department Indicator, Age Group Indicator, Admission Type Indicator, Patient Disposition Indicator."
   ]
  },
  {
   "cell_type": "markdown",
   "metadata": {},
   "source": [
    "The y: Total Charges."
   ]
  },
  {
   "cell_type": "code",
   "execution_count": 161,
   "metadata": {},
   "outputs": [],
   "source": [
    "# Delete Gender = U\n",
    "total_data = total_data[total_data['Gender'].isin([\"F\",\"M\"])]"
   ]
  },
  {
   "cell_type": "code",
   "execution_count": 162,
   "metadata": {
    "collapsed": true
   },
   "outputs": [],
   "source": [
    "# Delete Race = unknown\n",
    "total_data = total_data[total_data['Race'].isin([\"Black/African American\",\"Other Race\",\"White\"])]"
   ]
  },
  {
   "cell_type": "code",
   "execution_count": 163,
   "metadata": {},
   "outputs": [],
   "source": [
    "# Set categorical variables\n",
    "#total_data[\"Gender\"] = total_data[\"Gender\"].astype('category')\n",
    "#total_data[\"Race\"] = total_data[\"Race\"].astype('category')\n",
    "#total_data[\"APR DRG Code\"] = total_data[\"APR DRG Code\"].astype('category')\n",
    "#total_data[\"APR Severity of Illness Code\"] = total_data[\"APR Severity of Illness Code\"].astype('category')\n",
    "#total_data[\"Abortion Edit Indicator\"] = total_data[\"Abortion Edit Indicator\"].astype('category')\n",
    "#total_data[\"Emergency Department Indicator\"] = total_data[\"Emergency Department Indicator\"].astype('category')\n",
    "#total_data[\"Age Group Indicator\"] = total_data[\"Age Group Indicator\"].astype('category')\n",
    "#total_data[\"Admission Type Indicator\"] = total_data[\"Admission Type Indicator\"].astype('category')\n",
    "#total_data[\"Patient Disposition Indicator\"] = total_data[\"Patient Disposition Indicator\"].astype('category')"
   ]
  },
  {
   "cell_type": "code",
   "execution_count": 164,
   "metadata": {},
   "outputs": [],
   "source": [
    "# Set numeric variables\n",
    "total_data[\"Length of Stay\"] = total_data[\"Length of Stay\"].astype(float)"
   ]
  },
  {
   "cell_type": "code",
   "execution_count": 209,
   "metadata": {},
   "outputs": [],
   "source": [
    "# Add dummy columns\n",
    "#total_data = total_data.join(pd.get_dummies(total_data[\"Gender\"]))\n",
    "#total_data = total_data.join(pd.get_dummies(total_data[\"Race\"]))\n",
    "#total_data = total_data.join(pd.get_dummies(total_data[\"APR DRG Code\"]))\n",
    "#total_data = total_data.join(pd.get_dummies(total_data[\"APR Severity of Illness Description\"]))\n",
    "#total_data = total_data.join(pd.get_dummies(total_data[\"Abortion Edit Indicator\"]))\n",
    "#total_data = total_data.join(pd.get_dummies(total_data[\"Emergency Department Indicator\"]))\n",
    "#total_data = total_data.join(pd.get_dummies(total_data[\"Age Group Indicator\"]))\n",
    "#total_data = total_data.join(pd.get_dummies(total_data[\"Admission Type Indicator\"]))\n",
    "#total_data = total_data.join(pd.get_dummies(total_data[\"Patient Disposition Indicator\"]))"
   ]
  },
  {
   "cell_type": "code",
   "execution_count": 212,
   "metadata": {},
   "outputs": [
    {
     "data": {
      "text/plain": [
       "array(['Health Service Area', 'Hospital County',\n",
       "       'Operating Certificate Number', 'Facility ID', 'Facility Name',\n",
       "       'Age Group', 'Zip Code - 3 digits', 'Gender', 'Race', 'Ethnicity',\n",
       "       'Length of Stay', 'Type of Admission', 'Patient Disposition',\n",
       "       'Discharge Year', 'CCS Diagnosis Code', 'CCS Diagnosis Description',\n",
       "       'CCS Procedure Code', 'CCS Procedure Description', 'APR DRG Code',\n",
       "       'APR DRG Description', 'APR MDC Code', 'APR MDC Description',\n",
       "       'APR Severity of Illness Code',\n",
       "       'APR Severity of Illness Description', 'APR Risk of Mortality',\n",
       "       'APR Medical Surgical Description', 'Payment Typology 1',\n",
       "       'Payment Typology 2', 'Payment Typology 3',\n",
       "       'Attending Provider License Number',\n",
       "       'Operating Provider License Number',\n",
       "       'Other Provider License Number', 'Birth Weight',\n",
       "       'Abortion Edit Indicator', 'Emergency Department Indicator',\n",
       "       'Total Charges', 'Total Costs', 'Age Group Indicator',\n",
       "       'Admission Type Indicator', 'Patient Disposition Indicator', 'F',\n",
       "       'M', 'U', 'Black/African American', 'Other Race', 'Unknown',\n",
       "       'White', 0, 139, 140, 194, 540, 560, 640, 720, 'Extreme', 'Major',\n",
       "       'Minor', 'Moderate', 'N_abor', 'Y_abor', 'N_emer', 'Y_emer',\n",
       "       '0_age', '1_age', '2_age', '3_age', '4_age', '0_admin', '1_admin',\n",
       "       '2_admin', '3_admin', '4_admin', '5_admin', '0_dispo', '10_dispo',\n",
       "       '11_dispo', '12_dispo', '13_dispo', '14_dispo', '15_dispo',\n",
       "       '16_dispo', '17_dispo', '18_dispo', '1_dispo', '2_dispo', '3_dispo',\n",
       "       '4_dispo', '5_dispo', '6_dispo', '7_dispo', '8_dispo', '9_dispo'], dtype=object)"
      ]
     },
     "execution_count": 212,
     "metadata": {},
     "output_type": "execute_result"
    }
   ],
   "source": [
    "total_data.columns.values"
   ]
  },
  {
   "cell_type": "code",
   "execution_count": 214,
   "metadata": {},
   "outputs": [],
   "source": [
    "X_hos = total_data[['Length of Stay','F',\n",
    "       'M', 'U', 'Black/African American', 'Other Race', 'Unknown',\n",
    "       'White', 0, 139, 140, 194, 540, 560, 640, 720, 'Extreme', 'Major',\n",
    "       'Minor', 'Moderate', 'N_abor', 'Y_abor', 'N_emer', 'Y_emer',\n",
    "       '0_age', '1_age', '2_age', '3_age', '4_age', '0_admin', '1_admin',\n",
    "       '2_admin', '3_admin', '4_admin', '5_admin', '0_dispo', '10_dispo',\n",
    "       '11_dispo', '12_dispo', '13_dispo', '14_dispo', '15_dispo',\n",
    "       '16_dispo', '17_dispo', '18_dispo', '1_dispo', '2_dispo', '3_dispo',\n",
    "       '4_dispo', '5_dispo', '6_dispo', '7_dispo', '8_dispo', '9_dispo']]"
   ]
  },
  {
   "cell_type": "code",
   "execution_count": 217,
   "metadata": {},
   "outputs": [],
   "source": [
    "lm_hos = LinearRegression()"
   ]
  },
  {
   "cell_type": "code",
   "execution_count": 218,
   "metadata": {
    "collapsed": true
   },
   "outputs": [],
   "source": [
    "Y_hos = total_data[\"Total Charges\"].astype(float)"
   ]
  },
  {
   "cell_type": "code",
   "execution_count": 219,
   "metadata": {},
   "outputs": [
    {
     "data": {
      "text/plain": [
       "LinearRegression(copy_X=True, fit_intercept=True, n_jobs=1, normalize=False)"
      ]
     },
     "execution_count": 219,
     "metadata": {},
     "output_type": "execute_result"
    }
   ],
   "source": [
    "lm_hos.fit(X_hos, Y_hos)"
   ]
  },
  {
   "cell_type": "code",
   "execution_count": 222,
   "metadata": {},
   "outputs": [
    {
     "data": {
      "text/html": [
       "<div>\n",
       "<style>\n",
       "    .dataframe thead tr:only-child th {\n",
       "        text-align: right;\n",
       "    }\n",
       "\n",
       "    .dataframe thead th {\n",
       "        text-align: left;\n",
       "    }\n",
       "\n",
       "    .dataframe tbody tr th {\n",
       "        vertical-align: top;\n",
       "    }\n",
       "</style>\n",
       "<table border=\"1\" class=\"dataframe\">\n",
       "  <thead>\n",
       "    <tr style=\"text-align: right;\">\n",
       "      <th></th>\n",
       "      <th>features</th>\n",
       "      <th>estimatedCoefficients</th>\n",
       "    </tr>\n",
       "  </thead>\n",
       "  <tbody>\n",
       "    <tr>\n",
       "      <th>0</th>\n",
       "      <td>Length of Stay</td>\n",
       "      <td>4.891181e+03</td>\n",
       "    </tr>\n",
       "    <tr>\n",
       "      <th>1</th>\n",
       "      <td>F</td>\n",
       "      <td>1.064968e+14</td>\n",
       "    </tr>\n",
       "    <tr>\n",
       "      <th>2</th>\n",
       "      <td>M</td>\n",
       "      <td>1.064968e+14</td>\n",
       "    </tr>\n",
       "    <tr>\n",
       "      <th>3</th>\n",
       "      <td>U</td>\n",
       "      <td>1.064968e+14</td>\n",
       "    </tr>\n",
       "    <tr>\n",
       "      <th>4</th>\n",
       "      <td>Black/African American</td>\n",
       "      <td>2.395849e+14</td>\n",
       "    </tr>\n",
       "    <tr>\n",
       "      <th>...</th>\n",
       "      <td>...</td>\n",
       "      <td>...</td>\n",
       "    </tr>\n",
       "    <tr>\n",
       "      <th>49</th>\n",
       "      <td>5_dispo</td>\n",
       "      <td>1.203999e+15</td>\n",
       "    </tr>\n",
       "    <tr>\n",
       "      <th>50</th>\n",
       "      <td>6_dispo</td>\n",
       "      <td>1.203999e+15</td>\n",
       "    </tr>\n",
       "    <tr>\n",
       "      <th>51</th>\n",
       "      <td>7_dispo</td>\n",
       "      <td>1.203999e+15</td>\n",
       "    </tr>\n",
       "    <tr>\n",
       "      <th>52</th>\n",
       "      <td>8_dispo</td>\n",
       "      <td>1.203999e+15</td>\n",
       "    </tr>\n",
       "    <tr>\n",
       "      <th>53</th>\n",
       "      <td>9_dispo</td>\n",
       "      <td>1.203999e+15</td>\n",
       "    </tr>\n",
       "  </tbody>\n",
       "</table>\n",
       "<p>54 rows × 2 columns</p>\n",
       "</div>"
      ],
      "text/plain": [
       "                  features  estimatedCoefficients\n",
       "0           Length of Stay           4.891181e+03\n",
       "1                        F           1.064968e+14\n",
       "2                        M           1.064968e+14\n",
       "3                        U           1.064968e+14\n",
       "4   Black/African American           2.395849e+14\n",
       "..                     ...                    ...\n",
       "49                 5_dispo           1.203999e+15\n",
       "50                 6_dispo           1.203999e+15\n",
       "51                 7_dispo           1.203999e+15\n",
       "52                 8_dispo           1.203999e+15\n",
       "53                 9_dispo           1.203999e+15\n",
       "\n",
       "[54 rows x 2 columns]"
      ]
     },
     "execution_count": 222,
     "metadata": {},
     "output_type": "execute_result"
    }
   ],
   "source": [
    "pd.DataFrame(zip(X_hos.columns, lm_hos.coef_), columns = ['features', 'estimatedCoefficients'])"
   ]
  },
  {
   "cell_type": "code",
   "execution_count": null,
   "metadata": {
    "collapsed": true
   },
   "outputs": [],
   "source": []
  }
 ],
 "metadata": {
  "kernelspec": {
   "display_name": "Python [default]",
   "language": "python",
   "name": "python2"
  },
  "language_info": {
   "codemirror_mode": {
    "name": "ipython",
    "version": 2
   },
   "file_extension": ".py",
   "mimetype": "text/x-python",
   "name": "python",
   "nbconvert_exporter": "python",
   "pygments_lexer": "ipython2",
   "version": "2.7.13"
  }
 },
 "nbformat": 4,
 "nbformat_minor": 2
}
