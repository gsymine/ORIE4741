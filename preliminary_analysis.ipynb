{
 "cells": [
  {
   "cell_type": "code",
   "execution_count": 88,
   "metadata": {
    "collapsed": true
   },
   "outputs": [],
   "source": [
    "import pandas as pd\n",
    "import xlrd\n",
    "import numpy as np\n",
    "import matplotlib.pyplot as plt\n",
    "%matplotlib inline\n",
    "pd.options.display.max_columns = 10\n",
    "pd.options.display.max_rows = 10\n",
    "import sklearn\n",
    "from sklearn.linear_model import LinearRegression\n",
    "from scipy import stats\n",
    "from sklearn.metrics import mean_squared_error, r2_score\n",
    "from sklearn.model_selection import train_test_split\n",
    "from sklearn.linear_model import Ridge\n",
    "#import statsmodels.formula.api as smf\n",
    "#import statsmodels.api as sm"
   ]
  },
  {
   "cell_type": "code",
   "execution_count": 2,
   "metadata": {},
   "outputs": [
    {
     "name": "stderr",
     "output_type": "stream",
     "text": [
      "/Users/siyaogu/anaconda/lib/python2.7/site-packages/IPython/core/interactiveshell.py:2717: DtypeWarning: Columns (10) have mixed types. Specify dtype option on import or set low_memory=False.\n",
      "  interactivity=interactivity, compiler=compiler, result=result)\n"
     ]
    }
   ],
   "source": [
    "total_data = pd.read_csv(\"/users/siyaogu/Desktop/ORIE4741/Final_Project/county_analysis/clean_data_v3.csv\")"
   ]
  },
  {
   "cell_type": "code",
   "execution_count": 3,
   "metadata": {},
   "outputs": [
    {
     "data": {
      "text/html": [
       "<div>\n",
       "<style>\n",
       "    .dataframe thead tr:only-child th {\n",
       "        text-align: right;\n",
       "    }\n",
       "\n",
       "    .dataframe thead th {\n",
       "        text-align: left;\n",
       "    }\n",
       "\n",
       "    .dataframe tbody tr th {\n",
       "        vertical-align: top;\n",
       "    }\n",
       "</style>\n",
       "<table border=\"1\" class=\"dataframe\">\n",
       "  <thead>\n",
       "    <tr style=\"text-align: right;\">\n",
       "      <th></th>\n",
       "      <th>Health Service Area</th>\n",
       "      <th>Hospital County</th>\n",
       "      <th>Operating Certificate Number</th>\n",
       "      <th>Facility ID</th>\n",
       "      <th>Facility Name</th>\n",
       "      <th>...</th>\n",
       "      <th>Total Charges</th>\n",
       "      <th>Total Costs</th>\n",
       "      <th>Age Group Indicator</th>\n",
       "      <th>Admission Type Indicator</th>\n",
       "      <th>Patient Disposition Indicator</th>\n",
       "    </tr>\n",
       "  </thead>\n",
       "  <tbody>\n",
       "    <tr>\n",
       "      <th>0</th>\n",
       "      <td>Western NY</td>\n",
       "      <td>Allegany</td>\n",
       "      <td>226700.0</td>\n",
       "      <td>37.0</td>\n",
       "      <td>Cuba Memorial Hospital Inc</td>\n",
       "      <td>...</td>\n",
       "      <td>5511.95</td>\n",
       "      <td>$5582.49</td>\n",
       "      <td>2</td>\n",
       "      <td>3</td>\n",
       "      <td>18</td>\n",
       "    </tr>\n",
       "  </tbody>\n",
       "</table>\n",
       "<p>1 rows × 40 columns</p>\n",
       "</div>"
      ],
      "text/plain": [
       "  Health Service Area Hospital County  Operating Certificate Number  \\\n",
       "0          Western NY        Allegany                      226700.0   \n",
       "\n",
       "   Facility ID               Facility Name              ...               \\\n",
       "0         37.0  Cuba Memorial Hospital Inc              ...                \n",
       "\n",
       "  Total Charges Total Costs Age Group Indicator Admission Type Indicator  \\\n",
       "0       5511.95    $5582.49                   2                        3   \n",
       "\n",
       "  Patient Disposition Indicator  \n",
       "0                            18  \n",
       "\n",
       "[1 rows x 40 columns]"
      ]
     },
     "execution_count": 3,
     "metadata": {},
     "output_type": "execute_result"
    }
   ],
   "source": [
    "# Select columns that we will use\n",
    "total_data.head(1)"
   ]
  },
  {
   "cell_type": "code",
   "execution_count": 4,
   "metadata": {},
   "outputs": [
    {
     "data": {
      "text/plain": [
       "Gender\n",
       "F    1150685\n",
       "M     840085\n",
       "U         56\n",
       "dtype: int64"
      ]
     },
     "execution_count": 4,
     "metadata": {},
     "output_type": "execute_result"
    }
   ],
   "source": [
    "total_data.groupby(\"Gender\").size().sort_values(ascending=False)"
   ]
  },
  {
   "cell_type": "markdown",
   "metadata": {},
   "source": [
    "Gender: categorical, F/M/U, will probably delete U."
   ]
  },
  {
   "cell_type": "code",
   "execution_count": 5,
   "metadata": {},
   "outputs": [
    {
     "data": {
      "text/plain": [
       "Race\n",
       "White                     1152488\n",
       "Other Race                 472523\n",
       "Black/African American     358743\n",
       "Unknown                      7072\n",
       "dtype: int64"
      ]
     },
     "execution_count": 5,
     "metadata": {},
     "output_type": "execute_result"
    }
   ],
   "source": [
    "total_data.groupby(\"Race\").size().sort_values(ascending=False)"
   ]
  },
  {
   "cell_type": "markdown",
   "metadata": {},
   "source": [
    "Race: categorical, White/Other Race/Black,African American/Unknown, will probably delete unknown."
   ]
  },
  {
   "cell_type": "code",
   "execution_count": 6,
   "metadata": {},
   "outputs": [
    {
     "data": {
      "text/plain": [
       "Length of Stay\n",
       "2      471511\n",
       "3      368080\n",
       "1      295605\n",
       "4      211458\n",
       "5      129964\n",
       "        ...  \n",
       "110        42\n",
       "107        40\n",
       "113        40\n",
       "117        39\n",
       "114        37\n",
       "Length: 120, dtype: int64"
      ]
     },
     "execution_count": 6,
     "metadata": {},
     "output_type": "execute_result"
    }
   ],
   "source": [
    "total_data.loc[total_data['Length of Stay']=='120 +','Length of Stay']=120 \n",
    "total_data['Length of Stay'] = pd.to_numeric(total_data['Length of Stay'])\n",
    "total_data.groupby(\"Length of Stay\").size().sort_values(ascending=False)"
   ]
  },
  {
   "cell_type": "markdown",
   "metadata": {},
   "source": [
    "Length of stay: numeric."
   ]
  },
  {
   "cell_type": "code",
   "execution_count": 7,
   "metadata": {},
   "outputs": [
    {
     "data": {
      "text/plain": [
       "APR DRG Code\n",
       "0      1334000\n",
       "640     207578\n",
       "560     151638\n",
       "540      79687\n",
       "720      66785\n",
       "194      53957\n",
       "139      49791\n",
       "140      47390\n",
       "dtype: int64"
      ]
     },
     "execution_count": 7,
     "metadata": {},
     "output_type": "execute_result"
    }
   ],
   "source": [
    "total_data.groupby(\"APR DRG Code\").size().sort_values(ascending=False)"
   ]
  },
  {
   "cell_type": "markdown",
   "metadata": {},
   "source": [
    "APR DRG Code: categorical, indicating the type of treatment. 0/640/560/540/720/194/139/140. 0 indicates \"others\"."
   ]
  },
  {
   "cell_type": "code",
   "execution_count": 8,
   "metadata": {},
   "outputs": [
    {
     "data": {
      "text/plain": [
       "APR Severity of Illness Description\n",
       "Minor       724080\n",
       "Moderate    702802\n",
       "Major       424549\n",
       "Extreme     139395\n",
       "dtype: int64"
      ]
     },
     "execution_count": 8,
     "metadata": {},
     "output_type": "execute_result"
    }
   ],
   "source": [
    "total_data.groupby(\"APR Severity of Illness Description\").size().sort_values(ascending=False)"
   ]
  },
  {
   "cell_type": "markdown",
   "metadata": {},
   "source": [
    "APR Severity of Illness Description: categorical. 1/2/3/4. 1: minor, 4:extreme."
   ]
  },
  {
   "cell_type": "code",
   "execution_count": 9,
   "metadata": {},
   "outputs": [
    {
     "data": {
      "text/plain": [
       "Abortion Edit Indicator\n",
       "N_abor    1987873\n",
       "Y_abor       2953\n",
       "dtype: int64"
      ]
     },
     "execution_count": 9,
     "metadata": {},
     "output_type": "execute_result"
    }
   ],
   "source": [
    "total_data.loc[total_data['Abortion Edit Indicator'] == 'N', 'Abortion Edit Indicator'] = 'N_abor'\n",
    "total_data.loc[total_data['Abortion Edit Indicator'] == 'Y', 'Abortion Edit Indicator'] = 'Y_abor'\n",
    "total_data.groupby(\"Abortion Edit Indicator\").size().sort_values(ascending=False)"
   ]
  },
  {
   "cell_type": "markdown",
   "metadata": {},
   "source": [
    "Abortion Edit Indicator: categorical. N/Y."
   ]
  },
  {
   "cell_type": "code",
   "execution_count": 10,
   "metadata": {},
   "outputs": [
    {
     "data": {
      "text/plain": [
       "Emergency Department Indicator\n",
       "Y_emer    1159570\n",
       "N_emer     831256\n",
       "dtype: int64"
      ]
     },
     "execution_count": 10,
     "metadata": {},
     "output_type": "execute_result"
    }
   ],
   "source": [
    "total_data.loc[total_data['Emergency Department Indicator'] == 'N', 'Emergency Department Indicator'] = 'N_emer'\n",
    "total_data.loc[total_data['Emergency Department Indicator'] == 'Y', 'Emergency Department Indicator'] = 'Y_emer'\n",
    "total_data.groupby(\"Emergency Department Indicator\").size().sort_values(ascending=False)"
   ]
  },
  {
   "cell_type": "markdown",
   "metadata": {},
   "source": [
    "Emergency Department Indicator: categorical. Y/N."
   ]
  },
  {
   "cell_type": "code",
   "execution_count": 11,
   "metadata": {},
   "outputs": [
    {
     "data": {
      "text/plain": [
       "Age Group Indicator\n",
       "4_age    570253\n",
       "3_age    495608\n",
       "2_age    366267\n",
       "0_age    340107\n",
       "1_age    218591\n",
       "dtype: int64"
      ]
     },
     "execution_count": 11,
     "metadata": {},
     "output_type": "execute_result"
    }
   ],
   "source": [
    "total_data.loc[total_data['Age Group Indicator'] == 0, 'Age Group Indicator'] = '0_age'\n",
    "total_data.loc[total_data['Age Group Indicator'] == 1, 'Age Group Indicator'] = '1_age'\n",
    "total_data.loc[total_data['Age Group Indicator'] == 2, 'Age Group Indicator'] = '2_age'\n",
    "total_data.loc[total_data['Age Group Indicator'] == 3, 'Age Group Indicator'] = '3_age'\n",
    "total_data.loc[total_data['Age Group Indicator'] == 4, 'Age Group Indicator'] = '4_age'\n",
    "total_data.groupby(\"Age Group Indicator\").size().sort_values(ascending=False)"
   ]
  },
  {
   "cell_type": "markdown",
   "metadata": {},
   "source": [
    "Age Group Indicator: categorical. 4/3/2/1/0."
   ]
  },
  {
   "cell_type": "code",
   "execution_count": 12,
   "metadata": {},
   "outputs": [
    {
     "data": {
      "text/plain": [
       "Admission Type Indicator\n",
       "1_admin    1228454\n",
       "3_admin     348381\n",
       "4_admin     237301\n",
       "2_admin     172853\n",
       "5_admin       2354\n",
       "0_admin       1483\n",
       "dtype: int64"
      ]
     },
     "execution_count": 12,
     "metadata": {},
     "output_type": "execute_result"
    }
   ],
   "source": [
    "total_data.loc[total_data['Admission Type Indicator'] == 0, 'Admission Type Indicator'] = '0_admin'\n",
    "total_data.loc[total_data['Admission Type Indicator'] == 1, 'Admission Type Indicator'] = '1_admin'\n",
    "total_data.loc[total_data['Admission Type Indicator'] == 2, 'Admission Type Indicator'] = '2_admin'\n",
    "total_data.loc[total_data['Admission Type Indicator'] == 3, 'Admission Type Indicator'] = '3_admin'\n",
    "total_data.loc[total_data['Admission Type Indicator'] == 4, 'Admission Type Indicator'] = '4_admin'\n",
    "total_data.loc[total_data['Admission Type Indicator'] == 5, 'Admission Type Indicator'] = '5_admin'\n",
    "total_data.groupby(\"Admission Type Indicator\").size().sort_values(ascending=False)"
   ]
  },
  {
   "cell_type": "markdown",
   "metadata": {},
   "source": [
    "Admission Type Indicator: categorical. 0/1/2/3/4/5."
   ]
  },
  {
   "cell_type": "code",
   "execution_count": 13,
   "metadata": {},
   "outputs": [
    {
     "data": {
      "text/plain": [
       "Patient Disposition Indicator\n",
       "18_dispo    1354596\n",
       "17_dispo     246006\n",
       "16_dispo     201246\n",
       "15_dispo      45613\n",
       "14_dispo      37563\n",
       "             ...   \n",
       "4_dispo        2294\n",
       "3_dispo        1500\n",
       "2_dispo         505\n",
       "1_dispo         138\n",
       "0_dispo          34\n",
       "Length: 19, dtype: int64"
      ]
     },
     "execution_count": 13,
     "metadata": {},
     "output_type": "execute_result"
    }
   ],
   "source": [
    "total_data.loc[total_data['Patient Disposition Indicator'] == 0, 'Patient Disposition Indicator'] = '0_dispo'\n",
    "total_data.loc[total_data['Patient Disposition Indicator'] == 1, 'Patient Disposition Indicator'] = '1_dispo'\n",
    "total_data.loc[total_data['Patient Disposition Indicator'] == 2, 'Patient Disposition Indicator'] = '2_dispo'\n",
    "total_data.loc[total_data['Patient Disposition Indicator'] == 3, 'Patient Disposition Indicator'] = '3_dispo'\n",
    "total_data.loc[total_data['Patient Disposition Indicator'] == 4, 'Patient Disposition Indicator'] = '4_dispo'\n",
    "total_data.loc[total_data['Patient Disposition Indicator'] == 5, 'Patient Disposition Indicator'] = '5_dispo'\n",
    "total_data.loc[total_data['Patient Disposition Indicator'] == 6, 'Patient Disposition Indicator'] = '6_dispo'\n",
    "total_data.loc[total_data['Patient Disposition Indicator'] == 7, 'Patient Disposition Indicator'] = '7_dispo'\n",
    "total_data.loc[total_data['Patient Disposition Indicator'] == 8, 'Patient Disposition Indicator'] = '8_dispo'\n",
    "total_data.loc[total_data['Patient Disposition Indicator'] == 9, 'Patient Disposition Indicator'] = '9_dispo'\n",
    "total_data.loc[total_data['Patient Disposition Indicator'] == 10, 'Patient Disposition Indicator'] = '10_dispo'\n",
    "total_data.loc[total_data['Patient Disposition Indicator'] == 11, 'Patient Disposition Indicator'] = '11_dispo'\n",
    "total_data.loc[total_data['Patient Disposition Indicator'] == 12, 'Patient Disposition Indicator'] = '12_dispo'\n",
    "total_data.loc[total_data['Patient Disposition Indicator'] == 13, 'Patient Disposition Indicator'] = '13_dispo'\n",
    "total_data.loc[total_data['Patient Disposition Indicator'] == 14, 'Patient Disposition Indicator'] = '14_dispo'\n",
    "total_data.loc[total_data['Patient Disposition Indicator'] == 15, 'Patient Disposition Indicator'] = '15_dispo'\n",
    "total_data.loc[total_data['Patient Disposition Indicator'] == 16, 'Patient Disposition Indicator'] = '16_dispo'\n",
    "total_data.loc[total_data['Patient Disposition Indicator'] == 17, 'Patient Disposition Indicator'] = '17_dispo'\n",
    "total_data.loc[total_data['Patient Disposition Indicator'] == 18, 'Patient Disposition Indicator'] = '18_dispo'\n",
    "total_data.groupby(\"Patient Disposition Indicator\").size().sort_values(ascending=False)"
   ]
  },
  {
   "cell_type": "markdown",
   "metadata": {},
   "source": [
    "Patient Disposition Indicator: categorical. 0-18."
   ]
  },
  {
   "cell_type": "markdown",
   "metadata": {},
   "source": [
    "The x's: Gender, Race, Length of Stay, APR DRG Code, APR Severity of Illness Description, Abortion Edit Indicator, Emergency Department Indicator, Age Group Indicator, Admission Type Indicator, Patient Disposition Indicator."
   ]
  },
  {
   "cell_type": "markdown",
   "metadata": {},
   "source": [
    "The y: Total Charges."
   ]
  },
  {
   "cell_type": "code",
   "execution_count": 14,
   "metadata": {
    "collapsed": true
   },
   "outputs": [],
   "source": [
    "# Delete Gender = U\n",
    "total_data = total_data[total_data['Gender'].isin([\"F\",\"M\"])]"
   ]
  },
  {
   "cell_type": "code",
   "execution_count": 15,
   "metadata": {
    "collapsed": true
   },
   "outputs": [],
   "source": [
    "# Delete Race = unknown\n",
    "total_data = total_data[total_data['Race'].isin([\"Black/African American\",\"Other Race\",\"White\"])]"
   ]
  },
  {
   "cell_type": "code",
   "execution_count": 16,
   "metadata": {
    "collapsed": true
   },
   "outputs": [],
   "source": [
    "# Set categorical variables\n",
    "#total_data[\"Gender\"] = total_data[\"Gender\"].astype('category')\n",
    "#total_data[\"Race\"] = total_data[\"Race\"].astype('category')\n",
    "#total_data[\"APR DRG Code\"] = total_data[\"APR DRG Code\"].astype('category')\n",
    "#total_data[\"APR Severity of Illness Code\"] = total_data[\"APR Severity of Illness Code\"].astype('category')\n",
    "#total_data[\"Abortion Edit Indicator\"] = total_data[\"Abortion Edit Indicator\"].astype('category')\n",
    "#total_data[\"Emergency Department Indicator\"] = total_data[\"Emergency Department Indicator\"].astype('category')\n",
    "#total_data[\"Age Group Indicator\"] = total_data[\"Age Group Indicator\"].astype('category')\n",
    "#total_data[\"Admission Type Indicator\"] = total_data[\"Admission Type Indicator\"].astype('category')\n",
    "#total_data[\"Patient Disposition Indicator\"] = total_data[\"Patient Disposition Indicator\"].astype('category')"
   ]
  },
  {
   "cell_type": "code",
   "execution_count": 17,
   "metadata": {
    "collapsed": true
   },
   "outputs": [],
   "source": [
    "# Set numeric variables\n",
    "total_data[\"Length of Stay\"] = total_data[\"Length of Stay\"].astype(float)"
   ]
  },
  {
   "cell_type": "code",
   "execution_count": 18,
   "metadata": {
    "collapsed": true
   },
   "outputs": [],
   "source": [
    "total_data = total_data[total_data[\"Hospital County\"].isin([\"Manhattan\",\"Kings\",\"Queens\",\"Nassau\",\"Bronx\",\"Suffolk\",\"Erie\",\"Westchester\",\"Monroe\",\"Onondaga\",\"Albany\",\"Richmond\"])]"
   ]
  },
  {
   "cell_type": "code",
   "execution_count": 19,
   "metadata": {},
   "outputs": [
    {
     "data": {
      "text/plain": [
       "Abortion Edit Indicator\n",
       "N_abor    1607648\n",
       "dtype: int64"
      ]
     },
     "execution_count": 19,
     "metadata": {},
     "output_type": "execute_result"
    }
   ],
   "source": [
    "total_data.groupby(\"Abortion Edit Indicator\").size()"
   ]
  },
  {
   "cell_type": "code",
   "execution_count": 20,
   "metadata": {
    "collapsed": true
   },
   "outputs": [],
   "source": [
    "# Add dummy columns\n",
    "total_data = total_data.join(pd.get_dummies(total_data[\"Gender\"]))\n",
    "total_data = total_data.join(pd.get_dummies(total_data[\"Race\"]))\n",
    "total_data = total_data.join(pd.get_dummies(total_data[\"APR DRG Code\"]))\n",
    "total_data = total_data.join(pd.get_dummies(total_data[\"APR Severity of Illness Description\"]))\n",
    "total_data = total_data.join(pd.get_dummies(total_data[\"Abortion Edit Indicator\"]))\n",
    "total_data = total_data.join(pd.get_dummies(total_data[\"Emergency Department Indicator\"]))\n",
    "total_data = total_data.join(pd.get_dummies(total_data[\"Age Group Indicator\"]))\n",
    "total_data = total_data.join(pd.get_dummies(total_data[\"Admission Type Indicator\"]))\n",
    "total_data = total_data.join(pd.get_dummies(total_data[\"Patient Disposition Indicator\"]))\n",
    "total_data = total_data.join(pd.get_dummies(total_data[\"Hospital County\"]))"
   ]
  },
  {
   "cell_type": "code",
   "execution_count": 21,
   "metadata": {
    "scrolled": true
   },
   "outputs": [
    {
     "data": {
      "text/plain": [
       "array(['Health Service Area', 'Hospital County',\n",
       "       'Operating Certificate Number', 'Facility ID', 'Facility Name',\n",
       "       'Age Group', 'Zip Code - 3 digits', 'Gender', 'Race', 'Ethnicity',\n",
       "       'Length of Stay', 'Type of Admission', 'Patient Disposition',\n",
       "       'Discharge Year', 'CCS Diagnosis Code', 'CCS Diagnosis Description',\n",
       "       'CCS Procedure Code', 'CCS Procedure Description', 'APR DRG Code',\n",
       "       'APR DRG Description', 'APR MDC Code', 'APR MDC Description',\n",
       "       'APR Severity of Illness Code',\n",
       "       'APR Severity of Illness Description', 'APR Risk of Mortality',\n",
       "       'APR Medical Surgical Description', 'Payment Typology 1',\n",
       "       'Payment Typology 2', 'Payment Typology 3',\n",
       "       'Attending Provider License Number',\n",
       "       'Operating Provider License Number',\n",
       "       'Other Provider License Number', 'Birth Weight',\n",
       "       'Abortion Edit Indicator', 'Emergency Department Indicator',\n",
       "       'Total Charges', 'Total Costs', 'Age Group Indicator',\n",
       "       'Admission Type Indicator', 'Patient Disposition Indicator', 'F',\n",
       "       'M', 'Black/African American', 'Other Race', 'White', 0, 139, 140,\n",
       "       194, 540, 560, 640, 720, 'Extreme', 'Major', 'Minor', 'Moderate',\n",
       "       'N_abor', 'N_emer', 'Y_emer', '0_age', '1_age', '2_age', '3_age',\n",
       "       '4_age', '0_admin', '1_admin', '2_admin', '3_admin', '4_admin',\n",
       "       '5_admin', '0_dispo', '10_dispo', '11_dispo', '12_dispo',\n",
       "       '13_dispo', '14_dispo', '15_dispo', '16_dispo', '17_dispo',\n",
       "       '18_dispo', '1_dispo', '2_dispo', '3_dispo', '4_dispo', '5_dispo',\n",
       "       '6_dispo', '7_dispo', '8_dispo', '9_dispo', 'Albany', 'Bronx',\n",
       "       'Erie', 'Kings', 'Manhattan', 'Monroe', 'Nassau', 'Onondaga',\n",
       "       'Queens', 'Richmond', 'Suffolk', 'Westchester'], dtype=object)"
      ]
     },
     "execution_count": 21,
     "metadata": {},
     "output_type": "execute_result"
    }
   ],
   "source": [
    "total_data.columns.values"
   ]
  },
  {
   "cell_type": "code",
   "execution_count": 22,
   "metadata": {
    "collapsed": true
   },
   "outputs": [],
   "source": [
    "export_data = total_data[['Total Charges','Length of Stay','Gender', 'Race','APR DRG Code','APR Severity of Illness Description','Emergency Department Indicator','Age Group Indicator','Admission Type Indicator','Patient Disposition Indicator','Hospital County']]"
   ]
  },
  {
   "cell_type": "code",
   "execution_count": 23,
   "metadata": {
    "collapsed": true
   },
   "outputs": [],
   "source": [
    "#export_data.to_csv(\"/users/siyaogu/Desktop/ORIE4741/Final_Project/R_model/R_model.csv\",index=False)"
   ]
  },
  {
   "cell_type": "code",
   "execution_count": 24,
   "metadata": {
    "collapsed": true
   },
   "outputs": [],
   "source": [
    "total_data[\"F\"] = total_data[\"F\"].astype('category')\n",
    "total_data[\"M\"] = total_data[\"M\"].astype('category')\n",
    "total_data[\"Black/African American\"] = total_data[\"Black/African American\"].astype('category')\n",
    "total_data[\"Other Race\"] = total_data[\"Other Race\"].astype('category')\n",
    "total_data[\"White\"] = total_data[\"White\"].astype('category')\n",
    "total_data[0] = total_data[0].astype('category')\n",
    "total_data[139] = total_data[139].astype('category')\n",
    "total_data[140] = total_data[140].astype('category')\n",
    "total_data[194] = total_data[194].astype('category')\n",
    "total_data[540] = total_data[540].astype('category')\n",
    "total_data[560] = total_data[560].astype('category')\n",
    "total_data[640] = total_data[640].astype('category')\n",
    "total_data[720] = total_data[720].astype('category')\n",
    "total_data[\"Extreme\"] = total_data[\"Extreme\"].astype('category')\n",
    "total_data[\"Major\"] = total_data[\"Major\"].astype('category')\n",
    "total_data[\"Minor\"] = total_data[\"Minor\"].astype('category')\n",
    "total_data[\"Moderate\"] = total_data[\"Moderate\"].astype('category')\n",
    "total_data[\"N_abor\"] = total_data[\"N_abor\"].astype('category')\n",
    "#total_data[\"Y_abor\"] = total_data[\"Y_abor\"].astype('category')\n",
    "total_data[\"N_emer\"] = total_data[\"N_emer\"].astype('category')\n",
    "total_data[\"Y_emer\"] = total_data[\"Y_emer\"].astype('category')\n",
    "total_data[\"0_age\"] = total_data[\"0_age\"].astype('category')\n",
    "total_data[\"1_age\"] = total_data[\"1_age\"].astype('category')\n",
    "total_data[\"2_age\"] = total_data[\"2_age\"].astype('category')\n",
    "total_data[\"3_age\"] = total_data[\"3_age\"].astype('category')\n",
    "total_data[\"4_age\"] = total_data[\"4_age\"].astype('category')\n",
    "total_data[\"0_admin\"] = total_data[\"0_admin\"].astype('category')\n",
    "total_data[\"1_admin\"] = total_data[\"1_admin\"].astype('category')\n",
    "total_data[\"2_admin\"] = total_data[\"2_admin\"].astype('category')\n",
    "total_data[\"3_admin\"] = total_data[\"3_admin\"].astype('category')\n",
    "total_data[\"4_admin\"] = total_data[\"4_admin\"].astype('category')\n",
    "total_data[\"5_admin\"] = total_data[\"5_admin\"].astype('category')\n",
    "total_data[\"0_dispo\"] = total_data[\"0_dispo\"].astype('category')\n",
    "total_data[\"10_dispo\"] = total_data[\"10_dispo\"].astype('category')\n",
    "total_data[\"11_dispo\"] = total_data[\"11_dispo\"].astype('category')\n",
    "total_data[\"12_dispo\"] = total_data[\"12_dispo\"].astype('category')\n",
    "total_data[\"13_dispo\"] = total_data[\"13_dispo\"].astype('category')\n",
    "total_data[\"14_dispo\"] = total_data[\"14_dispo\"].astype('category')\n",
    "total_data[\"15_dispo\"] = total_data[\"15_dispo\"].astype('category')\n",
    "total_data[\"16_dispo\"] = total_data[\"16_dispo\"].astype('category')\n",
    "total_data[\"17_dispo\"] = total_data[\"17_dispo\"].astype('category')\n",
    "total_data[\"18_dispo\"] = total_data[\"18_dispo\"].astype('category')\n",
    "total_data[\"1_dispo\"] = total_data[\"1_dispo\"].astype('category')\n",
    "total_data[\"2_dispo\"] = total_data[\"2_dispo\"].astype('category')\n",
    "total_data[\"3_dispo\"] = total_data[\"3_dispo\"].astype('category')\n",
    "total_data[\"4_dispo\"] = total_data[\"4_dispo\"].astype('category')\n",
    "total_data[\"5_dispo\"] = total_data[\"5_dispo\"].astype('category')\n",
    "total_data[\"6_dispo\"] = total_data[\"6_dispo\"].astype('category')\n",
    "total_data[\"7_dispo\"] = total_data[\"7_dispo\"].astype('category')\n",
    "total_data[\"8_dispo\"] = total_data[\"8_dispo\"].astype('category')\n",
    "total_data[\"9_dispo\"] = total_data[\"9_dispo\"].astype('category')\n",
    "total_data[\"Manhattan\"] = total_data[\"Manhattan\"].astype('category')\n",
    "total_data[\"Kings\"] = total_data[\"Kings\"].astype('category')\n",
    "total_data[\"Queens\"] = total_data[\"Queens\"].astype('category')\n",
    "total_data[\"Nassau\"] = total_data[\"Nassau\"].astype('category')\n",
    "total_data[\"Bronx\"] = total_data[\"Bronx\"].astype('category')\n",
    "total_data[\"Suffolk\"] = total_data[\"Suffolk\"].astype('category')\n",
    "total_data[\"Erie\"] = total_data[\"Erie\"].astype('category')\n",
    "total_data[\"Westchester\"] = total_data[\"Westchester\"].astype('category')\n",
    "total_data[\"Monroe\"] = total_data[\"Monroe\"].astype('category')\n",
    "total_data[\"Onondaga\"] = total_data[\"Onondaga\"].astype('category')\n",
    "total_data[\"Albany\"] = total_data[\"Albany\"].astype('category')\n",
    "total_data[\"Richmond\"] = total_data[\"Richmond\"].astype('category')"
   ]
  },
  {
   "cell_type": "code",
   "execution_count": 125,
   "metadata": {
    "scrolled": true
   },
   "outputs": [],
   "source": [
    "# Train -> 80%, Test -> 20%\n",
    "X_train, X_test, Y_train, Y_test = train_test_split(total_data, total_data['Total Charges'], test_size=0.2)"
   ]
  },
  {
   "cell_type": "code",
   "execution_count": 44,
   "metadata": {
    "collapsed": true,
    "scrolled": true
   },
   "outputs": [],
   "source": [
    "X_hos = X_train[['Length of Stay','F',\n",
    "       #'M', \n",
    "       'Black/African American', 'Other Race',\n",
    "       #'White', \n",
    "       #0, \n",
    "       139, 140, 194, 540, 560, 640, 720, \n",
    "       #'Extreme', \n",
    "       'Major', 'Minor', 'Moderate',\n",
    "       #'N_emer', \n",
    "       'Y_emer', \n",
    "       #'0_age', \n",
    "       '1_age', '2_age', '3_age', '4_age', \n",
    "       #'0_admin', \n",
    "       '1_admin', '2_admin', '3_admin', '4_admin', '5_admin', '0_dispo', \n",
    "       '10_dispo', '11_dispo', '12_dispo', '13_dispo', '14_dispo', '15_dispo',\n",
    "       '16_dispo', '17_dispo', \n",
    "       #'18_dispo', \n",
    "       '1_dispo', '2_dispo', '3_dispo',\n",
    "       '4_dispo', '5_dispo', '6_dispo', '7_dispo', '8_dispo', '9_dispo',\n",
    "       #\"Manhattan\",\n",
    "       \"Kings\",\"Queens\",\"Nassau\",\"Bronx\",\"Suffolk\",\"Erie\",\"Westchester\",\"Monroe\",\"Onondaga\",\"Albany\",\"Richmond\"]]"
   ]
  },
  {
   "cell_type": "code",
   "execution_count": 51,
   "metadata": {
    "scrolled": true
   },
   "outputs": [
    {
     "data": {
      "text/html": [
       "<div>\n",
       "<style>\n",
       "    .dataframe thead tr:only-child th {\n",
       "        text-align: right;\n",
       "    }\n",
       "\n",
       "    .dataframe thead th {\n",
       "        text-align: left;\n",
       "    }\n",
       "\n",
       "    .dataframe tbody tr th {\n",
       "        vertical-align: top;\n",
       "    }\n",
       "</style>\n",
       "<table border=\"1\" class=\"dataframe\">\n",
       "  <thead>\n",
       "    <tr style=\"text-align: right;\">\n",
       "      <th></th>\n",
       "      <th>features</th>\n",
       "      <th>estimatedCoefficients</th>\n",
       "    </tr>\n",
       "  </thead>\n",
       "  <tbody>\n",
       "    <tr>\n",
       "      <th>0</th>\n",
       "      <td>Length of Stay</td>\n",
       "      <td>5053.651235</td>\n",
       "    </tr>\n",
       "    <tr>\n",
       "      <th>1</th>\n",
       "      <td>F</td>\n",
       "      <td>-1781.139569</td>\n",
       "    </tr>\n",
       "    <tr>\n",
       "      <th>2</th>\n",
       "      <td>Black/African American</td>\n",
       "      <td>-4411.964029</td>\n",
       "    </tr>\n",
       "    <tr>\n",
       "      <th>3</th>\n",
       "      <td>Other Race</td>\n",
       "      <td>341.813627</td>\n",
       "    </tr>\n",
       "    <tr>\n",
       "      <th>4</th>\n",
       "      <td>139</td>\n",
       "      <td>-8020.254340</td>\n",
       "    </tr>\n",
       "    <tr>\n",
       "      <th>5</th>\n",
       "      <td>140</td>\n",
       "      <td>-8769.370335</td>\n",
       "    </tr>\n",
       "    <tr>\n",
       "      <th>6</th>\n",
       "      <td>194</td>\n",
       "      <td>-7657.515493</td>\n",
       "    </tr>\n",
       "    <tr>\n",
       "      <th>7</th>\n",
       "      <td>540</td>\n",
       "      <td>-10847.389472</td>\n",
       "    </tr>\n",
       "    <tr>\n",
       "      <th>8</th>\n",
       "      <td>560</td>\n",
       "      <td>-9150.958755</td>\n",
       "    </tr>\n",
       "    <tr>\n",
       "      <th>9</th>\n",
       "      <td>640</td>\n",
       "      <td>-22993.830887</td>\n",
       "    </tr>\n",
       "    <tr>\n",
       "      <th>10</th>\n",
       "      <td>720</td>\n",
       "      <td>-15907.241695</td>\n",
       "    </tr>\n",
       "    <tr>\n",
       "      <th>11</th>\n",
       "      <td>Major</td>\n",
       "      <td>-35328.764956</td>\n",
       "    </tr>\n",
       "    <tr>\n",
       "      <th>12</th>\n",
       "      <td>Minor</td>\n",
       "      <td>-41887.427587</td>\n",
       "    </tr>\n",
       "    <tr>\n",
       "      <th>13</th>\n",
       "      <td>Moderate</td>\n",
       "      <td>-42707.729563</td>\n",
       "    </tr>\n",
       "    <tr>\n",
       "      <th>14</th>\n",
       "      <td>Y_emer</td>\n",
       "      <td>-3492.874320</td>\n",
       "    </tr>\n",
       "    <tr>\n",
       "      <th>15</th>\n",
       "      <td>1_age</td>\n",
       "      <td>-7221.127755</td>\n",
       "    </tr>\n",
       "    <tr>\n",
       "      <th>16</th>\n",
       "      <td>2_age</td>\n",
       "      <td>-5612.543496</td>\n",
       "    </tr>\n",
       "    <tr>\n",
       "      <th>17</th>\n",
       "      <td>3_age</td>\n",
       "      <td>507.729284</td>\n",
       "    </tr>\n",
       "    <tr>\n",
       "      <th>18</th>\n",
       "      <td>4_age</td>\n",
       "      <td>-3134.040289</td>\n",
       "    </tr>\n",
       "    <tr>\n",
       "      <th>19</th>\n",
       "      <td>1_admin</td>\n",
       "      <td>-16017.102378</td>\n",
       "    </tr>\n",
       "    <tr>\n",
       "      <th>20</th>\n",
       "      <td>2_admin</td>\n",
       "      <td>-5869.664298</td>\n",
       "    </tr>\n",
       "    <tr>\n",
       "      <th>21</th>\n",
       "      <td>3_admin</td>\n",
       "      <td>218.245191</td>\n",
       "    </tr>\n",
       "    <tr>\n",
       "      <th>22</th>\n",
       "      <td>4_admin</td>\n",
       "      <td>-7251.952672</td>\n",
       "    </tr>\n",
       "    <tr>\n",
       "      <th>23</th>\n",
       "      <td>5_admin</td>\n",
       "      <td>-347.234210</td>\n",
       "    </tr>\n",
       "    <tr>\n",
       "      <th>24</th>\n",
       "      <td>0_dispo</td>\n",
       "      <td>-33023.760732</td>\n",
       "    </tr>\n",
       "    <tr>\n",
       "      <th>25</th>\n",
       "      <td>10_dispo</td>\n",
       "      <td>-8408.777224</td>\n",
       "    </tr>\n",
       "    <tr>\n",
       "      <th>26</th>\n",
       "      <td>11_dispo</td>\n",
       "      <td>-9673.347456</td>\n",
       "    </tr>\n",
       "    <tr>\n",
       "      <th>27</th>\n",
       "      <td>12_dispo</td>\n",
       "      <td>614.697650</td>\n",
       "    </tr>\n",
       "    <tr>\n",
       "      <th>28</th>\n",
       "      <td>13_dispo</td>\n",
       "      <td>-3847.327193</td>\n",
       "    </tr>\n",
       "    <tr>\n",
       "      <th>29</th>\n",
       "      <td>14_dispo</td>\n",
       "      <td>23986.890690</td>\n",
       "    </tr>\n",
       "    <tr>\n",
       "      <th>30</th>\n",
       "      <td>15_dispo</td>\n",
       "      <td>6188.673848</td>\n",
       "    </tr>\n",
       "    <tr>\n",
       "      <th>31</th>\n",
       "      <td>16_dispo</td>\n",
       "      <td>3408.611822</td>\n",
       "    </tr>\n",
       "    <tr>\n",
       "      <th>32</th>\n",
       "      <td>17_dispo</td>\n",
       "      <td>8559.450823</td>\n",
       "    </tr>\n",
       "    <tr>\n",
       "      <th>33</th>\n",
       "      <td>1_dispo</td>\n",
       "      <td>-5260.176474</td>\n",
       "    </tr>\n",
       "    <tr>\n",
       "      <th>34</th>\n",
       "      <td>2_dispo</td>\n",
       "      <td>-11391.531700</td>\n",
       "    </tr>\n",
       "    <tr>\n",
       "      <th>35</th>\n",
       "      <td>3_dispo</td>\n",
       "      <td>8420.491771</td>\n",
       "    </tr>\n",
       "    <tr>\n",
       "      <th>36</th>\n",
       "      <td>4_dispo</td>\n",
       "      <td>79510.477776</td>\n",
       "    </tr>\n",
       "    <tr>\n",
       "      <th>37</th>\n",
       "      <td>5_dispo</td>\n",
       "      <td>3494.162450</td>\n",
       "    </tr>\n",
       "    <tr>\n",
       "      <th>38</th>\n",
       "      <td>6_dispo</td>\n",
       "      <td>-2643.460669</td>\n",
       "    </tr>\n",
       "    <tr>\n",
       "      <th>39</th>\n",
       "      <td>7_dispo</td>\n",
       "      <td>-40401.589278</td>\n",
       "    </tr>\n",
       "    <tr>\n",
       "      <th>40</th>\n",
       "      <td>8_dispo</td>\n",
       "      <td>-7192.384416</td>\n",
       "    </tr>\n",
       "    <tr>\n",
       "      <th>41</th>\n",
       "      <td>9_dispo</td>\n",
       "      <td>-31883.866568</td>\n",
       "    </tr>\n",
       "    <tr>\n",
       "      <th>42</th>\n",
       "      <td>Kings</td>\n",
       "      <td>-14187.128247</td>\n",
       "    </tr>\n",
       "    <tr>\n",
       "      <th>43</th>\n",
       "      <td>Queens</td>\n",
       "      <td>-12590.328528</td>\n",
       "    </tr>\n",
       "    <tr>\n",
       "      <th>44</th>\n",
       "      <td>Nassau</td>\n",
       "      <td>2782.903614</td>\n",
       "    </tr>\n",
       "    <tr>\n",
       "      <th>45</th>\n",
       "      <td>Bronx</td>\n",
       "      <td>-7959.523168</td>\n",
       "    </tr>\n",
       "    <tr>\n",
       "      <th>46</th>\n",
       "      <td>Suffolk</td>\n",
       "      <td>-1310.074891</td>\n",
       "    </tr>\n",
       "    <tr>\n",
       "      <th>47</th>\n",
       "      <td>Erie</td>\n",
       "      <td>-22913.346685</td>\n",
       "    </tr>\n",
       "    <tr>\n",
       "      <th>48</th>\n",
       "      <td>Westchester</td>\n",
       "      <td>-8883.680009</td>\n",
       "    </tr>\n",
       "    <tr>\n",
       "      <th>49</th>\n",
       "      <td>Monroe</td>\n",
       "      <td>-26945.706392</td>\n",
       "    </tr>\n",
       "    <tr>\n",
       "      <th>50</th>\n",
       "      <td>Onondaga</td>\n",
       "      <td>-22149.977691</td>\n",
       "    </tr>\n",
       "    <tr>\n",
       "      <th>51</th>\n",
       "      <td>Albany</td>\n",
       "      <td>-11143.824397</td>\n",
       "    </tr>\n",
       "    <tr>\n",
       "      <th>52</th>\n",
       "      <td>Richmond</td>\n",
       "      <td>-7531.570702</td>\n",
       "    </tr>\n",
       "  </tbody>\n",
       "</table>\n",
       "</div>"
      ],
      "text/plain": [
       "                  features  estimatedCoefficients\n",
       "0           Length of Stay            5053.651235\n",
       "1                        F           -1781.139569\n",
       "2   Black/African American           -4411.964029\n",
       "3               Other Race             341.813627\n",
       "4                      139           -8020.254340\n",
       "5                      140           -8769.370335\n",
       "6                      194           -7657.515493\n",
       "7                      540          -10847.389472\n",
       "8                      560           -9150.958755\n",
       "9                      640          -22993.830887\n",
       "10                     720          -15907.241695\n",
       "11                   Major          -35328.764956\n",
       "12                   Minor          -41887.427587\n",
       "13                Moderate          -42707.729563\n",
       "14                  Y_emer           -3492.874320\n",
       "15                   1_age           -7221.127755\n",
       "16                   2_age           -5612.543496\n",
       "17                   3_age             507.729284\n",
       "18                   4_age           -3134.040289\n",
       "19                 1_admin          -16017.102378\n",
       "20                 2_admin           -5869.664298\n",
       "21                 3_admin             218.245191\n",
       "22                 4_admin           -7251.952672\n",
       "23                 5_admin            -347.234210\n",
       "24                 0_dispo          -33023.760732\n",
       "25                10_dispo           -8408.777224\n",
       "26                11_dispo           -9673.347456\n",
       "27                12_dispo             614.697650\n",
       "28                13_dispo           -3847.327193\n",
       "29                14_dispo           23986.890690\n",
       "30                15_dispo            6188.673848\n",
       "31                16_dispo            3408.611822\n",
       "32                17_dispo            8559.450823\n",
       "33                 1_dispo           -5260.176474\n",
       "34                 2_dispo          -11391.531700\n",
       "35                 3_dispo            8420.491771\n",
       "36                 4_dispo           79510.477776\n",
       "37                 5_dispo            3494.162450\n",
       "38                 6_dispo           -2643.460669\n",
       "39                 7_dispo          -40401.589278\n",
       "40                 8_dispo           -7192.384416\n",
       "41                 9_dispo          -31883.866568\n",
       "42                   Kings          -14187.128247\n",
       "43                  Queens          -12590.328528\n",
       "44                  Nassau            2782.903614\n",
       "45                   Bronx           -7959.523168\n",
       "46                 Suffolk           -1310.074891\n",
       "47                    Erie          -22913.346685\n",
       "48             Westchester           -8883.680009\n",
       "49                  Monroe          -26945.706392\n",
       "50                Onondaga          -22149.977691\n",
       "51                  Albany          -11143.824397\n",
       "52                Richmond           -7531.570702"
      ]
     },
     "execution_count": 51,
     "metadata": {},
     "output_type": "execute_result"
    }
   ],
   "source": [
    "pd.options.display.max_rows = 60\n",
    "lm_hos = LinearRegression()\n",
    "lm_hos.fit(X_hos, Y_train)\n",
    "pd.DataFrame(zip(X_hos.columns, lm_hos.coef_), columns = ['features', 'estimatedCoefficients'])"
   ]
  },
  {
   "cell_type": "code",
   "execution_count": 27,
   "metadata": {
    "collapsed": true
   },
   "outputs": [],
   "source": [
    "export_data = total_data[['Total Charges','Length of Stay','F',\n",
    "       'M', \n",
    "       'Black/African American', 'Other Race',\n",
    "       'White', \n",
    "       0, \n",
    "       139, 140, 194, 540, 560, 640, 720, \n",
    "       'Extreme', \n",
    "       'Major', 'Minor', 'Moderate',\n",
    "       'N_emer', \n",
    "       'Y_emer', \n",
    "       '0_age', \n",
    "       '1_age', '2_age', '3_age', '4_age', \n",
    "       '0_admin', \n",
    "       '1_admin', '2_admin', '3_admin', '4_admin', '5_admin', \n",
    "       '0_dispo', \n",
    "       '10_dispo', '11_dispo', '12_dispo', '13_dispo', '14_dispo', '15_dispo',\n",
    "       '16_dispo', '17_dispo', '18_dispo', '1_dispo', '2_dispo', '3_dispo',\n",
    "       '4_dispo', '5_dispo', '6_dispo', '7_dispo', '8_dispo', '9_dispo',\n",
    "       \"Manhattan\",\n",
    "       \"Kings\",\"Queens\",\"Nassau\",\"Bronx\",\"Suffolk\",\"Erie\",\"Westchester\",\"Monroe\",\"Onondaga\",\"Albany\",\"Richmond\"]]"
   ]
  },
  {
   "cell_type": "code",
   "execution_count": 28,
   "metadata": {
    "collapsed": true
   },
   "outputs": [],
   "source": [
    "#export_data.to_csv(\"/users/siyaogu/Desktop/ORIE4741/Final_Project/linear_model/linear_model.csv\",index=False)"
   ]
  },
  {
   "cell_type": "code",
   "execution_count": 29,
   "metadata": {
    "collapsed": true
   },
   "outputs": [],
   "source": [
    "pd.options.display.max_rows = 10"
   ]
  },
  {
   "cell_type": "code",
   "execution_count": 52,
   "metadata": {
    "scrolled": true
   },
   "outputs": [
    {
     "data": {
      "text/plain": [
       "0.56710418644787941"
      ]
     },
     "execution_count": 52,
     "metadata": {},
     "output_type": "execute_result"
    }
   ],
   "source": [
    "lm_hos.score(X_hos,Y_train)"
   ]
  },
  {
   "cell_type": "code",
   "execution_count": 127,
   "metadata": {
    "collapsed": true
   },
   "outputs": [],
   "source": [
    "X_test = X_test[['Length of Stay','F',\n",
    "       #'M', \n",
    "       'Black/African American', 'Other Race',\n",
    "       #'White', \n",
    "       #0, \n",
    "       139, 140, 194, 540, 560, 640, 720, \n",
    "       #'Extreme', \n",
    "       'Major', 'Minor', 'Moderate',\n",
    "       #'N_emer', \n",
    "       'Y_emer', \n",
    "       #'0_age', \n",
    "       '1_age', '2_age', '3_age', '4_age', \n",
    "       #'0_admin', \n",
    "       '1_admin', '2_admin', '3_admin', '4_admin', '5_admin', '0_dispo', \n",
    "       '10_dispo', '11_dispo', '12_dispo', '13_dispo', '14_dispo', '15_dispo',\n",
    "       '16_dispo', '17_dispo', \n",
    "       #'18_dispo', \n",
    "       '1_dispo', '2_dispo', '3_dispo',\n",
    "       '4_dispo', '5_dispo', '6_dispo', '7_dispo', '8_dispo', '9_dispo',\n",
    "       #\"Manhattan\",\n",
    "       \"Kings\",\"Queens\",\"Nassau\",\"Bronx\",\"Suffolk\",\"Erie\",\"Westchester\",\"Monroe\",\"Onondaga\",\"Albany\",\"Richmond\"]]"
   ]
  },
  {
   "cell_type": "code",
   "execution_count": 56,
   "metadata": {},
   "outputs": [
    {
     "data": {
      "text/plain": [
       "2062725314.4597545"
      ]
     },
     "execution_count": 56,
     "metadata": {},
     "output_type": "execute_result"
    }
   ],
   "source": [
    "# Training MSE\n",
    "Y_hos_pred_train = lm_hos.predict(X_hos)\n",
    "mean_squared_error(Y_train.values, Y_hos_pred_train)"
   ]
  },
  {
   "cell_type": "code",
   "execution_count": 128,
   "metadata": {},
   "outputs": [
    {
     "data": {
      "text/plain": [
       "2197249894.9774241"
      ]
     },
     "execution_count": 128,
     "metadata": {},
     "output_type": "execute_result"
    }
   ],
   "source": [
    "# Test MSE\n",
    "Y_hos_pred = lm_hos.predict(X_test)\n",
    "mean_squared_error(Y_test.values, Y_hos_pred)"
   ]
  },
  {
   "cell_type": "code",
   "execution_count": 129,
   "metadata": {},
   "outputs": [
    {
     "data": {
      "text/plain": [
       "321530"
      ]
     },
     "execution_count": 129,
     "metadata": {},
     "output_type": "execute_result"
    }
   ],
   "source": [
    "x = list(range(1, len(Y_test)+1, 1))\n",
    "len(x)"
   ]
  },
  {
   "cell_type": "code",
   "execution_count": 75,
   "metadata": {
    "scrolled": true
   },
   "outputs": [
    {
     "data": {
      "text/plain": [
       "([], <a list of 0 Text xticklabel objects>)"
      ]
     },
     "execution_count": 75,
     "metadata": {},
     "output_type": "execute_result"
    },
    {
     "data": {
      "image/png": "[encoded data removed]",
      "text/plain": [
       "<matplotlib.figure.Figure at 0x1253022d0>"
      ]
     },
     "metadata": {},
     "output_type": "display_data"
    }
   ],
   "source": [
    "plt.scatter(x,Y_test.values,color='red')\n",
    "plt.scatter(x,Y_hos_pred)\n",
    "plt.title('Predicted Charges (in blue) vs. Real Charges (in red)')\n",
    "plt.ylabel('Amount of Charges($)')\n",
    "plt.xticks([])"
   ]
  },
  {
   "cell_type": "code",
   "execution_count": 111,
   "metadata": {},
   "outputs": [
    {
     "data": {
      "text/plain": [
       "321006"
      ]
     },
     "execution_count": 111,
     "metadata": {},
     "output_type": "execute_result"
    }
   ],
   "source": [
    "len(Y_test[Y_test<700000])"
   ]
  },
  {
   "cell_type": "code",
   "execution_count": 112,
   "metadata": {},
   "outputs": [
    {
     "data": {
      "text/plain": [
       "524"
      ]
     },
     "execution_count": 112,
     "metadata": {},
     "output_type": "execute_result"
    }
   ],
   "source": [
    "len(Y_test[Y_test>700000])"
   ]
  },
  {
   "cell_type": "code",
   "execution_count": 113,
   "metadata": {},
   "outputs": [
    {
     "data": {
      "text/plain": [
       "4"
      ]
     },
     "execution_count": 113,
     "metadata": {},
     "output_type": "execute_result"
    }
   ],
   "source": [
    "len(Y_hos_pred[Y_hos_pred>700000])"
   ]
  },
  {
   "cell_type": "code",
   "execution_count": 124,
   "metadata": {},
   "outputs": [
    {
     "data": {
      "text/plain": [
       "1182580899.5756168"
      ]
     },
     "execution_count": 124,
     "metadata": {},
     "output_type": "execute_result"
    }
   ],
   "source": [
    "Y_test_delete7000000 = Y_test[Y_test<700000]\n",
    "Y_hos_pred_delete7000000 = Y_hos_pred[Y_test<700000]\n",
    "mean_squared_error(Y_test_delete7000000, Y_hos_pred_delete7000000)"
   ]
  },
  {
   "cell_type": "markdown",
   "metadata": {
    "collapsed": true
   },
   "source": [
    "Wrap-up: The high MSE is mainly caused by extreme values."
   ]
  },
  {
   "cell_type": "code",
   "execution_count": null,
   "metadata": {
    "collapsed": true
   },
   "outputs": [],
   "source": []
  },
  {
   "cell_type": "code",
   "execution_count": 96,
   "metadata": {},
   "outputs": [
    {
     "data": {
      "text/html": [
       "<div>\n",
       "<style>\n",
       "    .dataframe thead tr:only-child th {\n",
       "        text-align: right;\n",
       "    }\n",
       "\n",
       "    .dataframe thead th {\n",
       "        text-align: left;\n",
       "    }\n",
       "\n",
       "    .dataframe tbody tr th {\n",
       "        vertical-align: top;\n",
       "    }\n",
       "</style>\n",
       "<table border=\"1\" class=\"dataframe\">\n",
       "  <thead>\n",
       "    <tr style=\"text-align: right;\">\n",
       "      <th></th>\n",
       "      <th>features</th>\n",
       "      <th>estimatedCoefficients</th>\n",
       "    </tr>\n",
       "  </thead>\n",
       "  <tbody>\n",
       "    <tr>\n",
       "      <th>0</th>\n",
       "      <td>Length of Stay</td>\n",
       "      <td>1.113613</td>\n",
       "    </tr>\n",
       "    <tr>\n",
       "      <th>1</th>\n",
       "      <td>F</td>\n",
       "      <td>-1.675722</td>\n",
       "    </tr>\n",
       "    <tr>\n",
       "      <th>2</th>\n",
       "      <td>Black/African American</td>\n",
       "      <td>-0.596915</td>\n",
       "    </tr>\n",
       "    <tr>\n",
       "      <th>3</th>\n",
       "      <td>Other Race</td>\n",
       "      <td>-0.377413</td>\n",
       "    </tr>\n",
       "    <tr>\n",
       "      <th>4</th>\n",
       "      <td>139</td>\n",
       "      <td>-1.800062</td>\n",
       "    </tr>\n",
       "    <tr>\n",
       "      <th>...</th>\n",
       "      <td>...</td>\n",
       "      <td>...</td>\n",
       "    </tr>\n",
       "    <tr>\n",
       "      <th>48</th>\n",
       "      <td>Westchester</td>\n",
       "      <td>1.003198</td>\n",
       "    </tr>\n",
       "    <tr>\n",
       "      <th>49</th>\n",
       "      <td>Monroe</td>\n",
       "      <td>-3.337657</td>\n",
       "    </tr>\n",
       "    <tr>\n",
       "      <th>50</th>\n",
       "      <td>Onondaga</td>\n",
       "      <td>-1.965886</td>\n",
       "    </tr>\n",
       "    <tr>\n",
       "      <th>51</th>\n",
       "      <td>Albany</td>\n",
       "      <td>0.433818</td>\n",
       "    </tr>\n",
       "    <tr>\n",
       "      <th>52</th>\n",
       "      <td>Richmond</td>\n",
       "      <td>-0.593003</td>\n",
       "    </tr>\n",
       "  </tbody>\n",
       "</table>\n",
       "<p>53 rows × 2 columns</p>\n",
       "</div>"
      ],
      "text/plain": [
       "                  features  estimatedCoefficients\n",
       "0           Length of Stay               1.113613\n",
       "1                        F              -1.675722\n",
       "2   Black/African American              -0.596915\n",
       "3               Other Race              -0.377413\n",
       "4                      139              -1.800062\n",
       "..                     ...                    ...\n",
       "48             Westchester               1.003198\n",
       "49                  Monroe              -3.337657\n",
       "50                Onondaga              -1.965886\n",
       "51                  Albany               0.433818\n",
       "52                Richmond              -0.593003\n",
       "\n",
       "[53 rows x 2 columns]"
      ]
     },
     "execution_count": 96,
     "metadata": {},
     "output_type": "execute_result"
    }
   ],
   "source": [
    "pd.options.display.max_rows = 60\n",
    "ridge_hos = Ridge(alpha=5000,normalize=True)\n",
    "ridge_hos.fit(X_hos,Y_train)\n",
    "pd.DataFrame(zip(X_hos.columns, ridge_hos.coef_), columns = ['features', 'estimatedCoefficients'])\n",
    "#y_pred_ridge = ridge_hos.predict(X_test)"
   ]
  },
  {
   "cell_type": "code",
   "execution_count": 163,
   "metadata": {},
   "outputs": [
    {
     "data": {
      "text/plain": [
       "4770047343.7881908"
      ]
     },
     "execution_count": 163,
     "metadata": {},
     "output_type": "execute_result"
    }
   ],
   "source": [
    "pd.options.display.max_rows = 10\n",
    "# Traning MSE\n",
    "Y_ridge_hos_pred_train = ridge_hos.predict(X_hos)\n",
    "mean_squared_error(Y_train.values, Y_ridge_hos_pred_train)"
   ]
  },
  {
   "cell_type": "code",
   "execution_count": 164,
   "metadata": {},
   "outputs": [
    {
     "data": {
      "text/plain": [
       "4855448704.3688002"
      ]
     },
     "execution_count": 164,
     "metadata": {},
     "output_type": "execute_result"
    }
   ],
   "source": [
    "# Test MSE\n",
    "Y_pred_ridge = ridge_hos.predict(X_test)\n",
    "mean_squared_error(Y_test.values, Y_pred_ridge)"
   ]
  },
  {
   "cell_type": "code",
   "execution_count": 165,
   "metadata": {},
   "outputs": [
    {
     "data": {
      "text/plain": [
       "([], <a list of 0 Text xticklabel objects>)"
      ]
     },
     "execution_count": 165,
     "metadata": {},
     "output_type": "execute_result"
    },
    {
     "data": {
      "image/png": "[encoded data removed]",
      "text/plain": [
       "<matplotlib.figure.Figure at 0x12704ac50>"
      ]
     },
     "metadata": {},
     "output_type": "display_data"
    }
   ],
   "source": [
    "x = list(range(1, len(Y_test)+1, 1))\n",
    "len(x)\n",
    "plt.scatter(x,Y_test.values,color='red')\n",
    "plt.scatter(x,Y_pred_ridge)\n",
    "plt.title('Predicted Charges under Ridge Regression (in blue) vs. Real Charges (in red)')\n",
    "plt.ylabel('Amount of Charges($)')\n",
    "plt.xticks([])"
   ]
  },
  {
   "cell_type": "code",
   "execution_count": null,
   "metadata": {
    "collapsed": true
   },
   "outputs": [],
   "source": []
  }
 ],
 "metadata": {
  "kernelspec": {
   "display_name": "Python [default]",
   "language": "python",
   "name": "python2"
  },
  "language_info": {
   "codemirror_mode": {
    "name": "ipython",
    "version": 2
   },
   "file_extension": ".py",
   "mimetype": "text/x-python",
   "name": "python",
   "nbconvert_exporter": "python",
   "pygments_lexer": "ipython2",
   "version": "2.7.13"
  }
 },
 "nbformat": 4,
 "nbformat_minor": 2
}
