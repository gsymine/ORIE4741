{
 "cells": [
  {
   "cell_type": "code",
   "execution_count": 1,
   "metadata": {
    "collapsed": true
   },
   "outputs": [],
   "source": [
    "import pandas as pd\n",
    "import xlrd\n",
    "import numpy as np\n",
    "import matplotlib.pyplot as plt\n",
    "%matplotlib inline\n",
    "pd.options.display.max_columns = 10\n",
    "pd.options.display.max_rows = 10\n",
    "import sklearn\n",
    "from sklearn.linear_model import LinearRegression\n",
    "from scipy import stats\n",
    "from sklearn.metrics import mean_squared_error, r2_score\n",
    "from sklearn.model_selection import train_test_split\n",
    "from sklearn.linear_model import Ridge\n",
    "from sklearn.linear_model import Lasso\n",
    "from sklearn.linear_model import HuberRegressor\n",
    "from sklearn.ensemble import RandomForestRegressor\n",
    "#from sklearn.ensemble import RandomForestClassifier\n",
    "#import statsmodels.formula.api as smf\n",
    "#import statsmodels.api as sm"
   ]
  },
  {
   "cell_type": "code",
   "execution_count": 2,
   "metadata": {
    "collapsed": true
   },
   "outputs": [],
   "source": [
    "total_data = pd.read_csv(\"/users/siyaogu/Desktop/ORIE4741/Final_Project/linear_model/linear_model.csv\")"
   ]
  },
  {
   "cell_type": "code",
   "execution_count": 3,
   "metadata": {
    "collapsed": true,
    "scrolled": true
   },
   "outputs": [],
   "source": [
    "total_data[\"F\"] = total_data[\"F\"].astype('category')\n",
    "total_data[\"M\"] = total_data[\"M\"].astype('category')\n",
    "total_data[\"Black/African American\"] = total_data[\"Black/African American\"].astype('category')\n",
    "total_data[\"Other Race\"] = total_data[\"Other Race\"].astype('category')\n",
    "total_data[\"White\"] = total_data[\"White\"].astype('category')\n",
    "total_data[\"0\"] = total_data[\"0\"].astype('category')\n",
    "total_data[\"139\"] = total_data[\"139\"].astype('category')\n",
    "total_data[\"140\"] = total_data[\"140\"].astype('category')\n",
    "total_data[\"194\"] = total_data[\"194\"].astype('category')\n",
    "total_data[\"540\"] = total_data[\"540\"].astype('category')\n",
    "total_data[\"560\"] = total_data[\"560\"].astype('category')\n",
    "total_data[\"640\"] = total_data[\"640\"].astype('category')\n",
    "total_data[\"720\"] = total_data[\"720\"].astype('category')\n",
    "total_data[\"Extreme\"] = total_data[\"Extreme\"].astype('category')\n",
    "total_data[\"Major\"] = total_data[\"Major\"].astype('category')\n",
    "total_data[\"Minor\"] = total_data[\"Minor\"].astype('category')\n",
    "total_data[\"Moderate\"] = total_data[\"Moderate\"].astype('category')\n",
    "total_data[\"N_emer\"] = total_data[\"N_emer\"].astype('category')\n",
    "total_data[\"Y_emer\"] = total_data[\"Y_emer\"].astype('category')\n",
    "total_data[\"0_age\"] = total_data[\"0_age\"].astype('category')\n",
    "total_data[\"1_age\"] = total_data[\"1_age\"].astype('category')\n",
    "total_data[\"2_age\"] = total_data[\"2_age\"].astype('category')\n",
    "total_data[\"3_age\"] = total_data[\"3_age\"].astype('category')\n",
    "total_data[\"4_age\"] = total_data[\"4_age\"].astype('category')\n",
    "total_data[\"0_admin\"] = total_data[\"0_admin\"].astype('category')\n",
    "total_data[\"1_admin\"] = total_data[\"1_admin\"].astype('category')\n",
    "total_data[\"2_admin\"] = total_data[\"2_admin\"].astype('category')\n",
    "total_data[\"3_admin\"] = total_data[\"3_admin\"].astype('category')\n",
    "total_data[\"4_admin\"] = total_data[\"4_admin\"].astype('category')\n",
    "total_data[\"5_admin\"] = total_data[\"5_admin\"].astype('category')\n",
    "total_data[\"0_dispo\"] = total_data[\"0_dispo\"].astype('category')\n",
    "total_data[\"10_dispo\"] = total_data[\"10_dispo\"].astype('category')\n",
    "total_data[\"11_dispo\"] = total_data[\"11_dispo\"].astype('category')\n",
    "total_data[\"12_dispo\"] = total_data[\"12_dispo\"].astype('category')\n",
    "total_data[\"13_dispo\"] = total_data[\"13_dispo\"].astype('category')\n",
    "total_data[\"14_dispo\"] = total_data[\"14_dispo\"].astype('category')\n",
    "total_data[\"15_dispo\"] = total_data[\"15_dispo\"].astype('category')\n",
    "total_data[\"16_dispo\"] = total_data[\"16_dispo\"].astype('category')\n",
    "total_data[\"17_dispo\"] = total_data[\"17_dispo\"].astype('category')\n",
    "total_data[\"18_dispo\"] = total_data[\"18_dispo\"].astype('category')\n",
    "total_data[\"1_dispo\"] = total_data[\"1_dispo\"].astype('category')\n",
    "total_data[\"2_dispo\"] = total_data[\"2_dispo\"].astype('category')\n",
    "total_data[\"3_dispo\"] = total_data[\"3_dispo\"].astype('category')\n",
    "total_data[\"4_dispo\"] = total_data[\"4_dispo\"].astype('category')\n",
    "total_data[\"5_dispo\"] = total_data[\"5_dispo\"].astype('category')\n",
    "total_data[\"6_dispo\"] = total_data[\"6_dispo\"].astype('category')\n",
    "total_data[\"7_dispo\"] = total_data[\"7_dispo\"].astype('category')\n",
    "total_data[\"8_dispo\"] = total_data[\"8_dispo\"].astype('category')\n",
    "total_data[\"9_dispo\"] = total_data[\"9_dispo\"].astype('category')\n",
    "total_data[\"Manhattan\"] = total_data[\"Manhattan\"].astype('category')\n",
    "total_data[\"Kings\"] = total_data[\"Kings\"].astype('category')\n",
    "total_data[\"Queens\"] = total_data[\"Queens\"].astype('category')\n",
    "total_data[\"Nassau\"] = total_data[\"Nassau\"].astype('category')\n",
    "total_data[\"Bronx\"] = total_data[\"Bronx\"].astype('category')\n",
    "total_data[\"Suffolk\"] = total_data[\"Suffolk\"].astype('category')\n",
    "total_data[\"Erie\"] = total_data[\"Erie\"].astype('category')\n",
    "total_data[\"Westchester\"] = total_data[\"Westchester\"].astype('category')\n",
    "total_data[\"Monroe\"] = total_data[\"Monroe\"].astype('category')\n",
    "total_data[\"Onondaga\"] = total_data[\"Onondaga\"].astype('category')\n",
    "total_data[\"Albany\"] = total_data[\"Albany\"].astype('category')\n",
    "total_data[\"Richmond\"] = total_data[\"Richmond\"].astype('category')"
   ]
  },
  {
   "cell_type": "code",
   "execution_count": 4,
   "metadata": {
    "collapsed": true
   },
   "outputs": [],
   "source": [
    "# Train -> 80%, Test -> 20%\n",
    "X_train, X_test, Y_train, Y_test = train_test_split(total_data, total_data['Total Charges'], test_size=0.2)"
   ]
  },
  {
   "cell_type": "code",
   "execution_count": 5,
   "metadata": {
    "collapsed": true
   },
   "outputs": [],
   "source": [
    "X_hos = X_train[['Length of Stay','F',\n",
    "       #'M', \n",
    "       'Black/African American', 'Other Race',\n",
    "       #'White', \n",
    "       #0, \n",
    "       \"139\", \"140\", \"194\", \"540\", \"560\", \"640\", \"720\", \n",
    "       #'Extreme', \n",
    "       'Major', 'Minor', 'Moderate',\n",
    "       #'N_emer', \n",
    "       'Y_emer', \n",
    "       #'0_age', \n",
    "       '1_age', '2_age', '3_age', '4_age', \n",
    "       #'0_admin', \n",
    "       '1_admin', '2_admin', '3_admin', '4_admin', '5_admin', '0_dispo', \n",
    "       '10_dispo', '11_dispo', '12_dispo', '13_dispo', '14_dispo', '15_dispo',\n",
    "       '16_dispo', '17_dispo', \n",
    "       #'18_dispo', \n",
    "       '1_dispo', '2_dispo', '3_dispo',\n",
    "       '4_dispo', '5_dispo', '6_dispo', '7_dispo', '8_dispo', '9_dispo',\n",
    "       #\"Manhattan\",\n",
    "       \"Kings\",\"Queens\",\"Nassau\",\"Bronx\",\"Suffolk\",\"Erie\",\"Westchester\",\"Monroe\",\"Onondaga\",\"Albany\",\"Richmond\"]]"
   ]
  },
  {
   "cell_type": "code",
   "execution_count": 16,
   "metadata": {},
   "outputs": [
    {
     "data": {
      "text/html": [
       "<div>\n",
       "<style>\n",
       "    .dataframe thead tr:only-child th {\n",
       "        text-align: right;\n",
       "    }\n",
       "\n",
       "    .dataframe thead th {\n",
       "        text-align: left;\n",
       "    }\n",
       "\n",
       "    .dataframe tbody tr th {\n",
       "        vertical-align: top;\n",
       "    }\n",
       "</style>\n",
       "<table border=\"1\" class=\"dataframe\">\n",
       "  <thead>\n",
       "    <tr style=\"text-align: right;\">\n",
       "      <th></th>\n",
       "      <th>features</th>\n",
       "      <th>estimatedCoefficients</th>\n",
       "    </tr>\n",
       "  </thead>\n",
       "  <tbody>\n",
       "    <tr>\n",
       "      <th>0</th>\n",
       "      <td>Length of Stay</td>\n",
       "      <td>0.049796</td>\n",
       "    </tr>\n",
       "    <tr>\n",
       "      <th>1</th>\n",
       "      <td>F</td>\n",
       "      <td>-0.056857</td>\n",
       "    </tr>\n",
       "    <tr>\n",
       "      <th>2</th>\n",
       "      <td>Black/African American</td>\n",
       "      <td>-0.106664</td>\n",
       "    </tr>\n",
       "    <tr>\n",
       "      <th>3</th>\n",
       "      <td>Other Race</td>\n",
       "      <td>-0.073596</td>\n",
       "    </tr>\n",
       "    <tr>\n",
       "      <th>4</th>\n",
       "      <td>139</td>\n",
       "      <td>-0.174477</td>\n",
       "    </tr>\n",
       "    <tr>\n",
       "      <th>5</th>\n",
       "      <td>140</td>\n",
       "      <td>-0.218590</td>\n",
       "    </tr>\n",
       "    <tr>\n",
       "      <th>6</th>\n",
       "      <td>194</td>\n",
       "      <td>-0.139974</td>\n",
       "    </tr>\n",
       "    <tr>\n",
       "      <th>7</th>\n",
       "      <td>540</td>\n",
       "      <td>-0.176214</td>\n",
       "    </tr>\n",
       "    <tr>\n",
       "      <th>8</th>\n",
       "      <td>560</td>\n",
       "      <td>-0.511887</td>\n",
       "    </tr>\n",
       "    <tr>\n",
       "      <th>9</th>\n",
       "      <td>640</td>\n",
       "      <td>-0.922234</td>\n",
       "    </tr>\n",
       "    <tr>\n",
       "      <th>10</th>\n",
       "      <td>720</td>\n",
       "      <td>-0.041207</td>\n",
       "    </tr>\n",
       "    <tr>\n",
       "      <th>11</th>\n",
       "      <td>Major</td>\n",
       "      <td>-0.365527</td>\n",
       "    </tr>\n",
       "    <tr>\n",
       "      <th>12</th>\n",
       "      <td>Minor</td>\n",
       "      <td>-0.795139</td>\n",
       "    </tr>\n",
       "    <tr>\n",
       "      <th>13</th>\n",
       "      <td>Moderate</td>\n",
       "      <td>-0.627535</td>\n",
       "    </tr>\n",
       "    <tr>\n",
       "      <th>14</th>\n",
       "      <td>Y_emer</td>\n",
       "      <td>-0.048338</td>\n",
       "    </tr>\n",
       "    <tr>\n",
       "      <th>15</th>\n",
       "      <td>1_age</td>\n",
       "      <td>0.101372</td>\n",
       "    </tr>\n",
       "    <tr>\n",
       "      <th>16</th>\n",
       "      <td>2_age</td>\n",
       "      <td>0.150691</td>\n",
       "    </tr>\n",
       "    <tr>\n",
       "      <th>17</th>\n",
       "      <td>3_age</td>\n",
       "      <td>0.295069</td>\n",
       "    </tr>\n",
       "    <tr>\n",
       "      <th>18</th>\n",
       "      <td>4_age</td>\n",
       "      <td>0.220888</td>\n",
       "    </tr>\n",
       "    <tr>\n",
       "      <th>19</th>\n",
       "      <td>1_admin</td>\n",
       "      <td>-0.303570</td>\n",
       "    </tr>\n",
       "    <tr>\n",
       "      <th>20</th>\n",
       "      <td>2_admin</td>\n",
       "      <td>-0.044351</td>\n",
       "    </tr>\n",
       "    <tr>\n",
       "      <th>21</th>\n",
       "      <td>3_admin</td>\n",
       "      <td>0.133445</td>\n",
       "    </tr>\n",
       "    <tr>\n",
       "      <th>22</th>\n",
       "      <td>4_admin</td>\n",
       "      <td>-0.332719</td>\n",
       "    </tr>\n",
       "    <tr>\n",
       "      <th>23</th>\n",
       "      <td>5_admin</td>\n",
       "      <td>0.196234</td>\n",
       "    </tr>\n",
       "    <tr>\n",
       "      <th>24</th>\n",
       "      <td>0_dispo</td>\n",
       "      <td>-0.453755</td>\n",
       "    </tr>\n",
       "    <tr>\n",
       "      <th>25</th>\n",
       "      <td>10_dispo</td>\n",
       "      <td>0.100228</td>\n",
       "    </tr>\n",
       "    <tr>\n",
       "      <th>26</th>\n",
       "      <td>11_dispo</td>\n",
       "      <td>0.009928</td>\n",
       "    </tr>\n",
       "    <tr>\n",
       "      <th>27</th>\n",
       "      <td>12_dispo</td>\n",
       "      <td>-0.417859</td>\n",
       "    </tr>\n",
       "    <tr>\n",
       "      <th>28</th>\n",
       "      <td>13_dispo</td>\n",
       "      <td>-0.225190</td>\n",
       "    </tr>\n",
       "    <tr>\n",
       "      <th>29</th>\n",
       "      <td>14_dispo</td>\n",
       "      <td>0.506961</td>\n",
       "    </tr>\n",
       "    <tr>\n",
       "      <th>30</th>\n",
       "      <td>15_dispo</td>\n",
       "      <td>-0.068607</td>\n",
       "    </tr>\n",
       "    <tr>\n",
       "      <th>31</th>\n",
       "      <td>16_dispo</td>\n",
       "      <td>0.261767</td>\n",
       "    </tr>\n",
       "    <tr>\n",
       "      <th>32</th>\n",
       "      <td>17_dispo</td>\n",
       "      <td>0.276223</td>\n",
       "    </tr>\n",
       "    <tr>\n",
       "      <th>33</th>\n",
       "      <td>1_dispo</td>\n",
       "      <td>0.340898</td>\n",
       "    </tr>\n",
       "    <tr>\n",
       "      <th>34</th>\n",
       "      <td>2_dispo</td>\n",
       "      <td>-0.018513</td>\n",
       "    </tr>\n",
       "    <tr>\n",
       "      <th>35</th>\n",
       "      <td>3_dispo</td>\n",
       "      <td>0.337652</td>\n",
       "    </tr>\n",
       "    <tr>\n",
       "      <th>36</th>\n",
       "      <td>4_dispo</td>\n",
       "      <td>0.150610</td>\n",
       "    </tr>\n",
       "    <tr>\n",
       "      <th>37</th>\n",
       "      <td>5_dispo</td>\n",
       "      <td>0.156358</td>\n",
       "    </tr>\n",
       "    <tr>\n",
       "      <th>38</th>\n",
       "      <td>6_dispo</td>\n",
       "      <td>0.012400</td>\n",
       "    </tr>\n",
       "    <tr>\n",
       "      <th>39</th>\n",
       "      <td>7_dispo</td>\n",
       "      <td>-0.310074</td>\n",
       "    </tr>\n",
       "    <tr>\n",
       "      <th>40</th>\n",
       "      <td>8_dispo</td>\n",
       "      <td>0.008385</td>\n",
       "    </tr>\n",
       "    <tr>\n",
       "      <th>41</th>\n",
       "      <td>9_dispo</td>\n",
       "      <td>-0.355867</td>\n",
       "    </tr>\n",
       "    <tr>\n",
       "      <th>42</th>\n",
       "      <td>Kings</td>\n",
       "      <td>-0.340397</td>\n",
       "    </tr>\n",
       "    <tr>\n",
       "      <th>43</th>\n",
       "      <td>Queens</td>\n",
       "      <td>-0.229067</td>\n",
       "    </tr>\n",
       "    <tr>\n",
       "      <th>44</th>\n",
       "      <td>Nassau</td>\n",
       "      <td>0.118484</td>\n",
       "    </tr>\n",
       "    <tr>\n",
       "      <th>45</th>\n",
       "      <td>Bronx</td>\n",
       "      <td>-0.254058</td>\n",
       "    </tr>\n",
       "    <tr>\n",
       "      <th>46</th>\n",
       "      <td>Suffolk</td>\n",
       "      <td>0.091053</td>\n",
       "    </tr>\n",
       "    <tr>\n",
       "      <th>47</th>\n",
       "      <td>Erie</td>\n",
       "      <td>-0.692044</td>\n",
       "    </tr>\n",
       "    <tr>\n",
       "      <th>48</th>\n",
       "      <td>Westchester</td>\n",
       "      <td>-0.260946</td>\n",
       "    </tr>\n",
       "    <tr>\n",
       "      <th>49</th>\n",
       "      <td>Monroe</td>\n",
       "      <td>-0.859582</td>\n",
       "    </tr>\n",
       "    <tr>\n",
       "      <th>50</th>\n",
       "      <td>Onondaga</td>\n",
       "      <td>-0.620772</td>\n",
       "    </tr>\n",
       "    <tr>\n",
       "      <th>51</th>\n",
       "      <td>Albany</td>\n",
       "      <td>-0.260281</td>\n",
       "    </tr>\n",
       "    <tr>\n",
       "      <th>52</th>\n",
       "      <td>Richmond</td>\n",
       "      <td>-0.142540</td>\n",
       "    </tr>\n",
       "  </tbody>\n",
       "</table>\n",
       "</div>"
      ],
      "text/plain": [
       "                  features  estimatedCoefficients\n",
       "0           Length of Stay               0.049796\n",
       "1                        F              -0.056857\n",
       "2   Black/African American              -0.106664\n",
       "3               Other Race              -0.073596\n",
       "4                      139              -0.174477\n",
       "5                      140              -0.218590\n",
       "6                      194              -0.139974\n",
       "7                      540              -0.176214\n",
       "8                      560              -0.511887\n",
       "9                      640              -0.922234\n",
       "10                     720              -0.041207\n",
       "11                   Major              -0.365527\n",
       "12                   Minor              -0.795139\n",
       "13                Moderate              -0.627535\n",
       "14                  Y_emer              -0.048338\n",
       "15                   1_age               0.101372\n",
       "16                   2_age               0.150691\n",
       "17                   3_age               0.295069\n",
       "18                   4_age               0.220888\n",
       "19                 1_admin              -0.303570\n",
       "20                 2_admin              -0.044351\n",
       "21                 3_admin               0.133445\n",
       "22                 4_admin              -0.332719\n",
       "23                 5_admin               0.196234\n",
       "24                 0_dispo              -0.453755\n",
       "25                10_dispo               0.100228\n",
       "26                11_dispo               0.009928\n",
       "27                12_dispo              -0.417859\n",
       "28                13_dispo              -0.225190\n",
       "29                14_dispo               0.506961\n",
       "30                15_dispo              -0.068607\n",
       "31                16_dispo               0.261767\n",
       "32                17_dispo               0.276223\n",
       "33                 1_dispo               0.340898\n",
       "34                 2_dispo              -0.018513\n",
       "35                 3_dispo               0.337652\n",
       "36                 4_dispo               0.150610\n",
       "37                 5_dispo               0.156358\n",
       "38                 6_dispo               0.012400\n",
       "39                 7_dispo              -0.310074\n",
       "40                 8_dispo               0.008385\n",
       "41                 9_dispo              -0.355867\n",
       "42                   Kings              -0.340397\n",
       "43                  Queens              -0.229067\n",
       "44                  Nassau               0.118484\n",
       "45                   Bronx              -0.254058\n",
       "46                 Suffolk               0.091053\n",
       "47                    Erie              -0.692044\n",
       "48             Westchester              -0.260946\n",
       "49                  Monroe              -0.859582\n",
       "50                Onondaga              -0.620772\n",
       "51                  Albany              -0.260281\n",
       "52                Richmond              -0.142540"
      ]
     },
     "execution_count": 16,
     "metadata": {},
     "output_type": "execute_result"
    }
   ],
   "source": [
    "# Simple linear regression\n",
    "pd.options.display.max_rows = 60\n",
    "lm_hos = LinearRegression()\n",
    "lm_hos.fit(X_hos, Y_train)\n",
    "pd.DataFrame(zip(X_hos.columns, lm_hos.coef_), columns = ['features', 'estimatedCoefficients'])"
   ]
  },
  {
   "cell_type": "code",
   "execution_count": 17,
   "metadata": {},
   "outputs": [
    {
     "data": {
      "text/plain": [
       "0.64600747573660311"
      ]
     },
     "execution_count": 17,
     "metadata": {},
     "output_type": "execute_result"
    }
   ],
   "source": [
    "# R^2\n",
    "lm_hos.score(X_hos,Y_train)"
   ]
  },
  {
   "cell_type": "code",
   "execution_count": 6,
   "metadata": {
    "collapsed": true
   },
   "outputs": [],
   "source": [
    "X_test = X_test[['Length of Stay','F',\n",
    "       #'M', \n",
    "       'Black/African American', 'Other Race',\n",
    "       #'White', \n",
    "       #0, \n",
    "       \"139\", \"140\", \"194\", \"540\", \"560\", \"640\", \"720\", \n",
    "       #'Extreme', \n",
    "       'Major', 'Minor', 'Moderate',\n",
    "       #'N_emer', \n",
    "       'Y_emer', \n",
    "       #'0_age', \n",
    "       '1_age', '2_age', '3_age', '4_age', \n",
    "       #'0_admin', \n",
    "       '1_admin', '2_admin', '3_admin', '4_admin', '5_admin', '0_dispo', \n",
    "       '10_dispo', '11_dispo', '12_dispo', '13_dispo', '14_dispo', '15_dispo',\n",
    "       '16_dispo', '17_dispo', \n",
    "       #'18_dispo', \n",
    "       '1_dispo', '2_dispo', '3_dispo',\n",
    "       '4_dispo', '5_dispo', '6_dispo', '7_dispo', '8_dispo', '9_dispo',\n",
    "       #\"Manhattan\",\n",
    "       \"Kings\",\"Queens\",\"Nassau\",\"Bronx\",\"Suffolk\",\"Erie\",\"Westchester\",\"Monroe\",\"Onondaga\",\"Albany\",\"Richmond\"]]"
   ]
  },
  {
   "cell_type": "code",
   "execution_count": 18,
   "metadata": {},
   "outputs": [
    {
     "data": {
      "text/plain": [
       "0.39811974847751419"
      ]
     },
     "execution_count": 18,
     "metadata": {},
     "output_type": "execute_result"
    }
   ],
   "source": [
    "# Training MSE\n",
    "Y_hos_pred_train = lm_hos.predict(X_hos)\n",
    "mean_squared_error(Y_train.values, Y_hos_pred_train)"
   ]
  },
  {
   "cell_type": "code",
   "execution_count": 19,
   "metadata": {},
   "outputs": [
    {
     "data": {
      "text/plain": [
       "0.39862924018895846"
      ]
     },
     "execution_count": 19,
     "metadata": {},
     "output_type": "execute_result"
    }
   ],
   "source": [
    "# Test MSE\n",
    "Y_hos_pred = lm_hos.predict(X_test)\n",
    "mean_squared_error(Y_test.values, Y_hos_pred)"
   ]
  },
  {
   "cell_type": "code",
   "execution_count": 20,
   "metadata": {},
   "outputs": [
    {
     "data": {
      "text/plain": [
       "<matplotlib.legend.Legend at 0x128ea1cd0>"
      ]
     },
     "execution_count": 20,
     "metadata": {},
     "output_type": "execute_result"
    },
    {
     "data": {
      "image/png": "[encoded data removed]",
      "text/plain": [
       "<matplotlib.figure.Figure at 0x148e96dd0>"
      ]
     },
     "metadata": {},
     "output_type": "display_data"
    }
   ],
   "source": [
    "x = list(range(1, len(Y_test)+1, 1))\n",
    "plt.scatter(x,Y_test.values,color='red',label='Real')\n",
    "plt.scatter(x,Y_hos_pred, label = 'Predicted')\n",
    "plt.title('L2 loss: Predicted Charges vs Real Charges')\n",
    "plt.ylabel('ln(Charges)')\n",
    "plt.legend(loc=1)"
   ]
  },
  {
   "cell_type": "code",
   "execution_count": 21,
   "metadata": {},
   "outputs": [
    {
     "data": {
      "text/plain": [
       "HuberRegressor(alpha=0.0001, epsilon=1.35, fit_intercept=True, max_iter=100,\n",
       "        tol=1e-05, warm_start=False)"
      ]
     },
     "execution_count": 21,
     "metadata": {},
     "output_type": "execute_result"
    }
   ],
   "source": [
    "# Huber Regression\n",
    "huber = HuberRegressor()\n",
    "huber.fit(X_hos, Y_train)"
   ]
  },
  {
   "cell_type": "code",
   "execution_count": 22,
   "metadata": {},
   "outputs": [
    {
     "data": {
      "text/html": [
       "<div>\n",
       "<style>\n",
       "    .dataframe thead tr:only-child th {\n",
       "        text-align: right;\n",
       "    }\n",
       "\n",
       "    .dataframe thead th {\n",
       "        text-align: left;\n",
       "    }\n",
       "\n",
       "    .dataframe tbody tr th {\n",
       "        vertical-align: top;\n",
       "    }\n",
       "</style>\n",
       "<table border=\"1\" class=\"dataframe\">\n",
       "  <thead>\n",
       "    <tr style=\"text-align: right;\">\n",
       "      <th></th>\n",
       "      <th>features</th>\n",
       "      <th>estimatedCoefficients</th>\n",
       "    </tr>\n",
       "  </thead>\n",
       "  <tbody>\n",
       "    <tr>\n",
       "      <th>0</th>\n",
       "      <td>Length of Stay</td>\n",
       "      <td>0.064916</td>\n",
       "    </tr>\n",
       "    <tr>\n",
       "      <th>1</th>\n",
       "      <td>F</td>\n",
       "      <td>-0.043286</td>\n",
       "    </tr>\n",
       "    <tr>\n",
       "      <th>2</th>\n",
       "      <td>Black/African American</td>\n",
       "      <td>-0.102216</td>\n",
       "    </tr>\n",
       "    <tr>\n",
       "      <th>3</th>\n",
       "      <td>Other Race</td>\n",
       "      <td>-0.073854</td>\n",
       "    </tr>\n",
       "    <tr>\n",
       "      <th>4</th>\n",
       "      <td>139</td>\n",
       "      <td>-0.151337</td>\n",
       "    </tr>\n",
       "    <tr>\n",
       "      <th>5</th>\n",
       "      <td>140</td>\n",
       "      <td>-0.194851</td>\n",
       "    </tr>\n",
       "    <tr>\n",
       "      <th>6</th>\n",
       "      <td>194</td>\n",
       "      <td>-0.120118</td>\n",
       "    </tr>\n",
       "    <tr>\n",
       "      <th>7</th>\n",
       "      <td>540</td>\n",
       "      <td>-0.212812</td>\n",
       "    </tr>\n",
       "    <tr>\n",
       "      <th>8</th>\n",
       "      <td>560</td>\n",
       "      <td>-0.530943</td>\n",
       "    </tr>\n",
       "    <tr>\n",
       "      <th>9</th>\n",
       "      <td>640</td>\n",
       "      <td>-0.883168</td>\n",
       "    </tr>\n",
       "    <tr>\n",
       "      <th>10</th>\n",
       "      <td>720</td>\n",
       "      <td>-0.044988</td>\n",
       "    </tr>\n",
       "    <tr>\n",
       "      <th>11</th>\n",
       "      <td>Major</td>\n",
       "      <td>-0.290835</td>\n",
       "    </tr>\n",
       "    <tr>\n",
       "      <th>12</th>\n",
       "      <td>Minor</td>\n",
       "      <td>-0.678309</td>\n",
       "    </tr>\n",
       "    <tr>\n",
       "      <th>13</th>\n",
       "      <td>Moderate</td>\n",
       "      <td>-0.543281</td>\n",
       "    </tr>\n",
       "    <tr>\n",
       "      <th>14</th>\n",
       "      <td>Y_emer</td>\n",
       "      <td>-0.039099</td>\n",
       "    </tr>\n",
       "    <tr>\n",
       "      <th>15</th>\n",
       "      <td>1_age</td>\n",
       "      <td>0.110744</td>\n",
       "    </tr>\n",
       "    <tr>\n",
       "      <th>16</th>\n",
       "      <td>2_age</td>\n",
       "      <td>0.147265</td>\n",
       "    </tr>\n",
       "    <tr>\n",
       "      <th>17</th>\n",
       "      <td>3_age</td>\n",
       "      <td>0.296872</td>\n",
       "    </tr>\n",
       "    <tr>\n",
       "      <th>18</th>\n",
       "      <td>4_age</td>\n",
       "      <td>0.229218</td>\n",
       "    </tr>\n",
       "    <tr>\n",
       "      <th>19</th>\n",
       "      <td>1_admin</td>\n",
       "      <td>1.720546</td>\n",
       "    </tr>\n",
       "    <tr>\n",
       "      <th>20</th>\n",
       "      <td>2_admin</td>\n",
       "      <td>2.026275</td>\n",
       "    </tr>\n",
       "    <tr>\n",
       "      <th>21</th>\n",
       "      <td>3_admin</td>\n",
       "      <td>2.199384</td>\n",
       "    </tr>\n",
       "    <tr>\n",
       "      <th>22</th>\n",
       "      <td>4_admin</td>\n",
       "      <td>1.686206</td>\n",
       "    </tr>\n",
       "    <tr>\n",
       "      <th>23</th>\n",
       "      <td>5_admin</td>\n",
       "      <td>0.627667</td>\n",
       "    </tr>\n",
       "    <tr>\n",
       "      <th>24</th>\n",
       "      <td>0_dispo</td>\n",
       "      <td>-0.002034</td>\n",
       "    </tr>\n",
       "    <tr>\n",
       "      <th>25</th>\n",
       "      <td>10_dispo</td>\n",
       "      <td>0.125653</td>\n",
       "    </tr>\n",
       "    <tr>\n",
       "      <th>26</th>\n",
       "      <td>11_dispo</td>\n",
       "      <td>0.076331</td>\n",
       "    </tr>\n",
       "    <tr>\n",
       "      <th>27</th>\n",
       "      <td>12_dispo</td>\n",
       "      <td>-0.392513</td>\n",
       "    </tr>\n",
       "    <tr>\n",
       "      <th>28</th>\n",
       "      <td>13_dispo</td>\n",
       "      <td>-0.181695</td>\n",
       "    </tr>\n",
       "    <tr>\n",
       "      <th>29</th>\n",
       "      <td>14_dispo</td>\n",
       "      <td>0.470878</td>\n",
       "    </tr>\n",
       "    <tr>\n",
       "      <th>30</th>\n",
       "      <td>15_dispo</td>\n",
       "      <td>-0.015335</td>\n",
       "    </tr>\n",
       "    <tr>\n",
       "      <th>31</th>\n",
       "      <td>16_dispo</td>\n",
       "      <td>0.226685</td>\n",
       "    </tr>\n",
       "    <tr>\n",
       "      <th>32</th>\n",
       "      <td>17_dispo</td>\n",
       "      <td>0.249094</td>\n",
       "    </tr>\n",
       "    <tr>\n",
       "      <th>33</th>\n",
       "      <td>1_dispo</td>\n",
       "      <td>0.015573</td>\n",
       "    </tr>\n",
       "    <tr>\n",
       "      <th>34</th>\n",
       "      <td>2_dispo</td>\n",
       "      <td>0.003853</td>\n",
       "    </tr>\n",
       "    <tr>\n",
       "      <th>35</th>\n",
       "      <td>3_dispo</td>\n",
       "      <td>0.003701</td>\n",
       "    </tr>\n",
       "    <tr>\n",
       "      <th>36</th>\n",
       "      <td>4_dispo</td>\n",
       "      <td>0.067715</td>\n",
       "    </tr>\n",
       "    <tr>\n",
       "      <th>37</th>\n",
       "      <td>5_dispo</td>\n",
       "      <td>0.065820</td>\n",
       "    </tr>\n",
       "    <tr>\n",
       "      <th>38</th>\n",
       "      <td>6_dispo</td>\n",
       "      <td>0.013335</td>\n",
       "    </tr>\n",
       "    <tr>\n",
       "      <th>39</th>\n",
       "      <td>7_dispo</td>\n",
       "      <td>-0.164687</td>\n",
       "    </tr>\n",
       "    <tr>\n",
       "      <th>40</th>\n",
       "      <td>8_dispo</td>\n",
       "      <td>0.004655</td>\n",
       "    </tr>\n",
       "    <tr>\n",
       "      <th>41</th>\n",
       "      <td>9_dispo</td>\n",
       "      <td>-0.261671</td>\n",
       "    </tr>\n",
       "    <tr>\n",
       "      <th>42</th>\n",
       "      <td>Kings</td>\n",
       "      <td>-0.342698</td>\n",
       "    </tr>\n",
       "    <tr>\n",
       "      <th>43</th>\n",
       "      <td>Queens</td>\n",
       "      <td>-0.225854</td>\n",
       "    </tr>\n",
       "    <tr>\n",
       "      <th>44</th>\n",
       "      <td>Nassau</td>\n",
       "      <td>0.091782</td>\n",
       "    </tr>\n",
       "    <tr>\n",
       "      <th>45</th>\n",
       "      <td>Bronx</td>\n",
       "      <td>-0.244043</td>\n",
       "    </tr>\n",
       "    <tr>\n",
       "      <th>46</th>\n",
       "      <td>Suffolk</td>\n",
       "      <td>0.082621</td>\n",
       "    </tr>\n",
       "    <tr>\n",
       "      <th>47</th>\n",
       "      <td>Erie</td>\n",
       "      <td>-0.720517</td>\n",
       "    </tr>\n",
       "    <tr>\n",
       "      <th>48</th>\n",
       "      <td>Westchester</td>\n",
       "      <td>-0.318756</td>\n",
       "    </tr>\n",
       "    <tr>\n",
       "      <th>49</th>\n",
       "      <td>Monroe</td>\n",
       "      <td>-0.894841</td>\n",
       "    </tr>\n",
       "    <tr>\n",
       "      <th>50</th>\n",
       "      <td>Onondaga</td>\n",
       "      <td>-0.633368</td>\n",
       "    </tr>\n",
       "    <tr>\n",
       "      <th>51</th>\n",
       "      <td>Albany</td>\n",
       "      <td>-0.309794</td>\n",
       "    </tr>\n",
       "    <tr>\n",
       "      <th>52</th>\n",
       "      <td>Richmond</td>\n",
       "      <td>-0.169324</td>\n",
       "    </tr>\n",
       "  </tbody>\n",
       "</table>\n",
       "</div>"
      ],
      "text/plain": [
       "                  features  estimatedCoefficients\n",
       "0           Length of Stay               0.064916\n",
       "1                        F              -0.043286\n",
       "2   Black/African American              -0.102216\n",
       "3               Other Race              -0.073854\n",
       "4                      139              -0.151337\n",
       "5                      140              -0.194851\n",
       "6                      194              -0.120118\n",
       "7                      540              -0.212812\n",
       "8                      560              -0.530943\n",
       "9                      640              -0.883168\n",
       "10                     720              -0.044988\n",
       "11                   Major              -0.290835\n",
       "12                   Minor              -0.678309\n",
       "13                Moderate              -0.543281\n",
       "14                  Y_emer              -0.039099\n",
       "15                   1_age               0.110744\n",
       "16                   2_age               0.147265\n",
       "17                   3_age               0.296872\n",
       "18                   4_age               0.229218\n",
       "19                 1_admin               1.720546\n",
       "20                 2_admin               2.026275\n",
       "21                 3_admin               2.199384\n",
       "22                 4_admin               1.686206\n",
       "23                 5_admin               0.627667\n",
       "24                 0_dispo              -0.002034\n",
       "25                10_dispo               0.125653\n",
       "26                11_dispo               0.076331\n",
       "27                12_dispo              -0.392513\n",
       "28                13_dispo              -0.181695\n",
       "29                14_dispo               0.470878\n",
       "30                15_dispo              -0.015335\n",
       "31                16_dispo               0.226685\n",
       "32                17_dispo               0.249094\n",
       "33                 1_dispo               0.015573\n",
       "34                 2_dispo               0.003853\n",
       "35                 3_dispo               0.003701\n",
       "36                 4_dispo               0.067715\n",
       "37                 5_dispo               0.065820\n",
       "38                 6_dispo               0.013335\n",
       "39                 7_dispo              -0.164687\n",
       "40                 8_dispo               0.004655\n",
       "41                 9_dispo              -0.261671\n",
       "42                   Kings              -0.342698\n",
       "43                  Queens              -0.225854\n",
       "44                  Nassau               0.091782\n",
       "45                   Bronx              -0.244043\n",
       "46                 Suffolk               0.082621\n",
       "47                    Erie              -0.720517\n",
       "48             Westchester              -0.318756\n",
       "49                  Monroe              -0.894841\n",
       "50                Onondaga              -0.633368\n",
       "51                  Albany              -0.309794\n",
       "52                Richmond              -0.169324"
      ]
     },
     "execution_count": 22,
     "metadata": {},
     "output_type": "execute_result"
    }
   ],
   "source": [
    "pd.DataFrame(zip(X_hos.columns, huber.coef_), columns = ['features', 'estimatedCoefficients'])"
   ]
  },
  {
   "cell_type": "code",
   "execution_count": 23,
   "metadata": {},
   "outputs": [
    {
     "data": {
      "text/plain": [
       "0.4197866844727059"
      ]
     },
     "execution_count": 23,
     "metadata": {},
     "output_type": "execute_result"
    }
   ],
   "source": [
    "# Training MSE\n",
    "Y_huber_pred_train = huber.predict(X_hos)\n",
    "mean_squared_error(Y_train.values, Y_huber_pred_train)"
   ]
  },
  {
   "cell_type": "code",
   "execution_count": 24,
   "metadata": {},
   "outputs": [
    {
     "data": {
      "text/plain": [
       "0.41973930188658759"
      ]
     },
     "execution_count": 24,
     "metadata": {},
     "output_type": "execute_result"
    }
   ],
   "source": [
    "# Test MSE\n",
    "Y_huber_pred = huber.predict(X_test)\n",
    "mean_squared_error(Y_test.values, Y_huber_pred)"
   ]
  },
  {
   "cell_type": "code",
   "execution_count": 25,
   "metadata": {},
   "outputs": [
    {
     "data": {
      "text/plain": [
       "<matplotlib.legend.Legend at 0x1294052d0>"
      ]
     },
     "execution_count": 25,
     "metadata": {},
     "output_type": "execute_result"
    },
    {
     "data": {
      "image/png": "[encoded data removed]",
      "text/plain": [
       "<matplotlib.figure.Figure at 0x15397f6d0>"
      ]
     },
     "metadata": {},
     "output_type": "display_data"
    }
   ],
   "source": [
    "x = list(range(1, len(Y_test)+1, 1))\n",
    "plt.scatter(x,Y_test.values,color='red',label='Real')\n",
    "plt.scatter(x,Y_huber_pred, label = 'Predicted')\n",
    "plt.title('Huber: Predicted Charges vs Real Charges')\n",
    "plt.ylabel('ln(Charges)')\n",
    "plt.legend(loc=1)"
   ]
  },
  {
   "cell_type": "code",
   "execution_count": 21,
   "metadata": {},
   "outputs": [
    {
     "data": {
      "text/plain": [
       "Ridge(alpha=1.0, copy_X=True, fit_intercept=True, max_iter=None,\n",
       "   normalize=False, random_state=None, solver='auto', tol=0.001)"
      ]
     },
     "execution_count": 21,
     "metadata": {},
     "output_type": "execute_result"
    }
   ],
   "source": [
    "# Ridge Regression (L2 + quadratic)\n",
    "ridge = Ridge(alpha=1.0)\n",
    "ridge.fit(X_hos, Y_train) "
   ]
  },
  {
   "cell_type": "code",
   "execution_count": 22,
   "metadata": {},
   "outputs": [
    {
     "data": {
      "text/plain": [
       "0.39799399671081748"
      ]
     },
     "execution_count": 22,
     "metadata": {},
     "output_type": "execute_result"
    }
   ],
   "source": [
    "# Training MSE\n",
    "Y_ridge_pred_train = ridge.predict(X_hos)\n",
    "mean_squared_error(Y_train.values, Y_ridge_pred_train)"
   ]
  },
  {
   "cell_type": "code",
   "execution_count": 23,
   "metadata": {},
   "outputs": [
    {
     "data": {
      "text/plain": [
       "0.39914363245714196"
      ]
     },
     "execution_count": 23,
     "metadata": {},
     "output_type": "execute_result"
    }
   ],
   "source": [
    "# Test MSE\n",
    "Y_ridge_pred = ridge.predict(X_test)\n",
    "mean_squared_error(Y_test.values, Y_ridge_pred)"
   ]
  },
  {
   "cell_type": "code",
   "execution_count": 24,
   "metadata": {},
   "outputs": [
    {
     "data": {
      "text/plain": [
       "([], <a list of 0 Text xticklabel objects>)"
      ]
     },
     "execution_count": 24,
     "metadata": {},
     "output_type": "execute_result"
    },
    {
     "data": {
      "image/png": "[encoded data removed]",
      "text/plain": [
       "<matplotlib.figure.Figure at 0x11c9e8450>"
      ]
     },
     "metadata": {},
     "output_type": "display_data"
    }
   ],
   "source": [
    "x = list(range(1, len(Y_test)+1, 1))\n",
    "plt.scatter(x,Y_test.values,color='red')\n",
    "plt.scatter(x,Y_ridge_pred)\n",
    "plt.title('Predicted Charges (in blue) vs. Real Charges (in red)')\n",
    "plt.ylabel('Amount of Charges($)')\n",
    "plt.xticks([])"
   ]
  },
  {
   "cell_type": "code",
   "execution_count": 25,
   "metadata": {},
   "outputs": [
    {
     "data": {
      "text/plain": [
       "Lasso(alpha=0.01, copy_X=True, fit_intercept=True, max_iter=1000,\n",
       "   normalize=False, positive=False, precompute=False, random_state=None,\n",
       "   selection='cyclic', tol=0.0001, warm_start=False)"
      ]
     },
     "execution_count": 25,
     "metadata": {},
     "output_type": "execute_result"
    }
   ],
   "source": [
    "# Lasso Regression (L2 + L1)\n",
    "lasso = Lasso(alpha=0.01)\n",
    "lasso.fit(X_hos, Y_train)"
   ]
  },
  {
   "cell_type": "code",
   "execution_count": 26,
   "metadata": {},
   "outputs": [
    {
     "data": {
      "text/html": [
       "<div>\n",
       "<style>\n",
       "    .dataframe thead tr:only-child th {\n",
       "        text-align: right;\n",
       "    }\n",
       "\n",
       "    .dataframe thead th {\n",
       "        text-align: left;\n",
       "    }\n",
       "\n",
       "    .dataframe tbody tr th {\n",
       "        vertical-align: top;\n",
       "    }\n",
       "</style>\n",
       "<table border=\"1\" class=\"dataframe\">\n",
       "  <thead>\n",
       "    <tr style=\"text-align: right;\">\n",
       "      <th></th>\n",
       "      <th>features</th>\n",
       "      <th>estimatedCoefficients</th>\n",
       "    </tr>\n",
       "  </thead>\n",
       "  <tbody>\n",
       "    <tr>\n",
       "      <th>0</th>\n",
       "      <td>Length of Stay</td>\n",
       "      <td>0.055497</td>\n",
       "    </tr>\n",
       "    <tr>\n",
       "      <th>1</th>\n",
       "      <td>F</td>\n",
       "      <td>-0.038081</td>\n",
       "    </tr>\n",
       "    <tr>\n",
       "      <th>2</th>\n",
       "      <td>Black/African American</td>\n",
       "      <td>-0.048831</td>\n",
       "    </tr>\n",
       "    <tr>\n",
       "      <th>3</th>\n",
       "      <td>Other Race</td>\n",
       "      <td>-0.000000</td>\n",
       "    </tr>\n",
       "    <tr>\n",
       "      <th>4</th>\n",
       "      <td>139</td>\n",
       "      <td>-0.000000</td>\n",
       "    </tr>\n",
       "    <tr>\n",
       "      <th>5</th>\n",
       "      <td>140</td>\n",
       "      <td>-0.000000</td>\n",
       "    </tr>\n",
       "    <tr>\n",
       "      <th>6</th>\n",
       "      <td>194</td>\n",
       "      <td>-0.000000</td>\n",
       "    </tr>\n",
       "    <tr>\n",
       "      <th>7</th>\n",
       "      <td>540</td>\n",
       "      <td>-0.000000</td>\n",
       "    </tr>\n",
       "    <tr>\n",
       "      <th>8</th>\n",
       "      <td>560</td>\n",
       "      <td>-0.269568</td>\n",
       "    </tr>\n",
       "    <tr>\n",
       "      <th>9</th>\n",
       "      <td>640</td>\n",
       "      <td>-0.801908</td>\n",
       "    </tr>\n",
       "    <tr>\n",
       "      <th>10</th>\n",
       "      <td>720</td>\n",
       "      <td>0.000000</td>\n",
       "    </tr>\n",
       "    <tr>\n",
       "      <th>11</th>\n",
       "      <td>Major</td>\n",
       "      <td>-0.000000</td>\n",
       "    </tr>\n",
       "    <tr>\n",
       "      <th>12</th>\n",
       "      <td>Minor</td>\n",
       "      <td>-0.417704</td>\n",
       "    </tr>\n",
       "    <tr>\n",
       "      <th>13</th>\n",
       "      <td>Moderate</td>\n",
       "      <td>-0.237160</td>\n",
       "    </tr>\n",
       "    <tr>\n",
       "      <th>14</th>\n",
       "      <td>Y_emer</td>\n",
       "      <td>-0.009266</td>\n",
       "    </tr>\n",
       "    <tr>\n",
       "      <th>15</th>\n",
       "      <td>1_age</td>\n",
       "      <td>-0.000000</td>\n",
       "    </tr>\n",
       "    <tr>\n",
       "      <th>16</th>\n",
       "      <td>2_age</td>\n",
       "      <td>0.000000</td>\n",
       "    </tr>\n",
       "    <tr>\n",
       "      <th>17</th>\n",
       "      <td>3_age</td>\n",
       "      <td>0.206952</td>\n",
       "    </tr>\n",
       "    <tr>\n",
       "      <th>18</th>\n",
       "      <td>4_age</td>\n",
       "      <td>0.176040</td>\n",
       "    </tr>\n",
       "    <tr>\n",
       "      <th>19</th>\n",
       "      <td>1_admin</td>\n",
       "      <td>-0.076040</td>\n",
       "    </tr>\n",
       "    <tr>\n",
       "      <th>20</th>\n",
       "      <td>2_admin</td>\n",
       "      <td>0.000000</td>\n",
       "    </tr>\n",
       "    <tr>\n",
       "      <th>21</th>\n",
       "      <td>3_admin</td>\n",
       "      <td>0.313776</td>\n",
       "    </tr>\n",
       "    <tr>\n",
       "      <th>22</th>\n",
       "      <td>4_admin</td>\n",
       "      <td>-0.183998</td>\n",
       "    </tr>\n",
       "    <tr>\n",
       "      <th>23</th>\n",
       "      <td>5_admin</td>\n",
       "      <td>0.000000</td>\n",
       "    </tr>\n",
       "    <tr>\n",
       "      <th>24</th>\n",
       "      <td>0_dispo</td>\n",
       "      <td>-0.000000</td>\n",
       "    </tr>\n",
       "    <tr>\n",
       "      <th>25</th>\n",
       "      <td>10_dispo</td>\n",
       "      <td>0.000000</td>\n",
       "    </tr>\n",
       "    <tr>\n",
       "      <th>26</th>\n",
       "      <td>11_dispo</td>\n",
       "      <td>0.000000</td>\n",
       "    </tr>\n",
       "    <tr>\n",
       "      <th>27</th>\n",
       "      <td>12_dispo</td>\n",
       "      <td>-0.000000</td>\n",
       "    </tr>\n",
       "    <tr>\n",
       "      <th>28</th>\n",
       "      <td>13_dispo</td>\n",
       "      <td>-0.000000</td>\n",
       "    </tr>\n",
       "    <tr>\n",
       "      <th>29</th>\n",
       "      <td>14_dispo</td>\n",
       "      <td>0.050267</td>\n",
       "    </tr>\n",
       "    <tr>\n",
       "      <th>30</th>\n",
       "      <td>15_dispo</td>\n",
       "      <td>0.000000</td>\n",
       "    </tr>\n",
       "    <tr>\n",
       "      <th>31</th>\n",
       "      <td>16_dispo</td>\n",
       "      <td>0.156574</td>\n",
       "    </tr>\n",
       "    <tr>\n",
       "      <th>32</th>\n",
       "      <td>17_dispo</td>\n",
       "      <td>0.192784</td>\n",
       "    </tr>\n",
       "    <tr>\n",
       "      <th>33</th>\n",
       "      <td>1_dispo</td>\n",
       "      <td>0.000000</td>\n",
       "    </tr>\n",
       "    <tr>\n",
       "      <th>34</th>\n",
       "      <td>2_dispo</td>\n",
       "      <td>-0.000000</td>\n",
       "    </tr>\n",
       "    <tr>\n",
       "      <th>35</th>\n",
       "      <td>3_dispo</td>\n",
       "      <td>0.000000</td>\n",
       "    </tr>\n",
       "    <tr>\n",
       "      <th>36</th>\n",
       "      <td>4_dispo</td>\n",
       "      <td>0.000000</td>\n",
       "    </tr>\n",
       "    <tr>\n",
       "      <th>37</th>\n",
       "      <td>5_dispo</td>\n",
       "      <td>0.000000</td>\n",
       "    </tr>\n",
       "    <tr>\n",
       "      <th>38</th>\n",
       "      <td>6_dispo</td>\n",
       "      <td>0.000000</td>\n",
       "    </tr>\n",
       "    <tr>\n",
       "      <th>39</th>\n",
       "      <td>7_dispo</td>\n",
       "      <td>-0.000000</td>\n",
       "    </tr>\n",
       "    <tr>\n",
       "      <th>40</th>\n",
       "      <td>8_dispo</td>\n",
       "      <td>-0.000000</td>\n",
       "    </tr>\n",
       "    <tr>\n",
       "      <th>41</th>\n",
       "      <td>9_dispo</td>\n",
       "      <td>-0.000000</td>\n",
       "    </tr>\n",
       "    <tr>\n",
       "      <th>42</th>\n",
       "      <td>Kings</td>\n",
       "      <td>-0.123073</td>\n",
       "    </tr>\n",
       "    <tr>\n",
       "      <th>43</th>\n",
       "      <td>Queens</td>\n",
       "      <td>-0.000000</td>\n",
       "    </tr>\n",
       "    <tr>\n",
       "      <th>44</th>\n",
       "      <td>Nassau</td>\n",
       "      <td>0.231864</td>\n",
       "    </tr>\n",
       "    <tr>\n",
       "      <th>45</th>\n",
       "      <td>Bronx</td>\n",
       "      <td>-0.000000</td>\n",
       "    </tr>\n",
       "    <tr>\n",
       "      <th>46</th>\n",
       "      <td>Suffolk</td>\n",
       "      <td>0.172130</td>\n",
       "    </tr>\n",
       "    <tr>\n",
       "      <th>47</th>\n",
       "      <td>Erie</td>\n",
       "      <td>-0.298709</td>\n",
       "    </tr>\n",
       "    <tr>\n",
       "      <th>48</th>\n",
       "      <td>Westchester</td>\n",
       "      <td>-0.000000</td>\n",
       "    </tr>\n",
       "    <tr>\n",
       "      <th>49</th>\n",
       "      <td>Monroe</td>\n",
       "      <td>-0.440811</td>\n",
       "    </tr>\n",
       "    <tr>\n",
       "      <th>50</th>\n",
       "      <td>Onondaga</td>\n",
       "      <td>-0.095065</td>\n",
       "    </tr>\n",
       "    <tr>\n",
       "      <th>51</th>\n",
       "      <td>Albany</td>\n",
       "      <td>-0.000000</td>\n",
       "    </tr>\n",
       "    <tr>\n",
       "      <th>52</th>\n",
       "      <td>Richmond</td>\n",
       "      <td>0.000000</td>\n",
       "    </tr>\n",
       "  </tbody>\n",
       "</table>\n",
       "</div>"
      ],
      "text/plain": [
       "                  features  estimatedCoefficients\n",
       "0           Length of Stay               0.055497\n",
       "1                        F              -0.038081\n",
       "2   Black/African American              -0.048831\n",
       "3               Other Race              -0.000000\n",
       "4                      139              -0.000000\n",
       "5                      140              -0.000000\n",
       "6                      194              -0.000000\n",
       "7                      540              -0.000000\n",
       "8                      560              -0.269568\n",
       "9                      640              -0.801908\n",
       "10                     720               0.000000\n",
       "11                   Major              -0.000000\n",
       "12                   Minor              -0.417704\n",
       "13                Moderate              -0.237160\n",
       "14                  Y_emer              -0.009266\n",
       "15                   1_age              -0.000000\n",
       "16                   2_age               0.000000\n",
       "17                   3_age               0.206952\n",
       "18                   4_age               0.176040\n",
       "19                 1_admin              -0.076040\n",
       "20                 2_admin               0.000000\n",
       "21                 3_admin               0.313776\n",
       "22                 4_admin              -0.183998\n",
       "23                 5_admin               0.000000\n",
       "24                 0_dispo              -0.000000\n",
       "25                10_dispo               0.000000\n",
       "26                11_dispo               0.000000\n",
       "27                12_dispo              -0.000000\n",
       "28                13_dispo              -0.000000\n",
       "29                14_dispo               0.050267\n",
       "30                15_dispo               0.000000\n",
       "31                16_dispo               0.156574\n",
       "32                17_dispo               0.192784\n",
       "33                 1_dispo               0.000000\n",
       "34                 2_dispo              -0.000000\n",
       "35                 3_dispo               0.000000\n",
       "36                 4_dispo               0.000000\n",
       "37                 5_dispo               0.000000\n",
       "38                 6_dispo               0.000000\n",
       "39                 7_dispo              -0.000000\n",
       "40                 8_dispo              -0.000000\n",
       "41                 9_dispo              -0.000000\n",
       "42                   Kings              -0.123073\n",
       "43                  Queens              -0.000000\n",
       "44                  Nassau               0.231864\n",
       "45                   Bronx              -0.000000\n",
       "46                 Suffolk               0.172130\n",
       "47                    Erie              -0.298709\n",
       "48             Westchester              -0.000000\n",
       "49                  Monroe              -0.440811\n",
       "50                Onondaga              -0.095065\n",
       "51                  Albany              -0.000000\n",
       "52                Richmond               0.000000"
      ]
     },
     "execution_count": 26,
     "metadata": {},
     "output_type": "execute_result"
    }
   ],
   "source": [
    "pd.options.display.max_rows = 60\n",
    "pd.DataFrame(zip(X_hos.columns, lasso.coef_), columns = ['features', 'estimatedCoefficients'])"
   ]
  },
  {
   "cell_type": "code",
   "execution_count": 27,
   "metadata": {},
   "outputs": [
    {
     "data": {
      "text/plain": [
       "0.44550263374934718"
      ]
     },
     "execution_count": 27,
     "metadata": {},
     "output_type": "execute_result"
    }
   ],
   "source": [
    "# Training MSE\n",
    "Y_lasso_pred_train = lasso.predict(X_hos)\n",
    "mean_squared_error(Y_train.values, Y_lasso_pred_train)"
   ]
  },
  {
   "cell_type": "code",
   "execution_count": 28,
   "metadata": {},
   "outputs": [
    {
     "data": {
      "text/plain": [
       "0.44828287887806967"
      ]
     },
     "execution_count": 28,
     "metadata": {},
     "output_type": "execute_result"
    }
   ],
   "source": [
    "# Test MSE\n",
    "Y_lasso_pred = lasso.predict(X_test)\n",
    "mean_squared_error(Y_test.values, Y_lasso_pred)"
   ]
  },
  {
   "cell_type": "code",
   "execution_count": 29,
   "metadata": {},
   "outputs": [
    {
     "data": {
      "text/plain": [
       "([], <a list of 0 Text xticklabel objects>)"
      ]
     },
     "execution_count": 29,
     "metadata": {},
     "output_type": "execute_result"
    },
    {
     "data": {
      "image/png": "[encoded data removed]",
      "text/plain": [
       "<matplotlib.figure.Figure at 0x11c9d1350>"
      ]
     },
     "metadata": {},
     "output_type": "display_data"
    }
   ],
   "source": [
    "x = list(range(1, len(Y_test)+1, 1))\n",
    "plt.scatter(x,Y_test.values,color='red')\n",
    "plt.scatter(x,Y_lasso_pred)\n",
    "plt.title('Predicted Charges (in blue) vs. Real Charges (in red)')\n",
    "plt.ylabel('Amount of Charges($)')\n",
    "plt.xticks([])"
   ]
  },
  {
   "cell_type": "code",
   "execution_count": 30,
   "metadata": {},
   "outputs": [
    {
     "data": {
      "text/plain": [
       "RandomForestRegressor(bootstrap=True, criterion='mse', max_depth=400,\n",
       "           max_features='auto', max_leaf_nodes=None,\n",
       "           min_impurity_split=1e-07, min_samples_leaf=1,\n",
       "           min_samples_split=2, min_weight_fraction_leaf=0.0,\n",
       "           n_estimators=10, n_jobs=1, oob_score=False, random_state=0,\n",
       "           verbose=0, warm_start=False)"
      ]
     },
     "execution_count": 30,
     "metadata": {},
     "output_type": "execute_result"
    }
   ],
   "source": [
    "# Random Forest with max_depth = 400, n_estimators=10\n",
    "forest = RandomForestRegressor(max_depth=400, random_state=0)\n",
    "forest.fit(X_hos, Y_train)\n",
    "# Converge since max_depth = 100"
   ]
  },
  {
   "cell_type": "code",
   "execution_count": 31,
   "metadata": {},
   "outputs": [
    {
     "data": {
      "text/plain": [
       "0.1870844959103459"
      ]
     },
     "execution_count": 31,
     "metadata": {},
     "output_type": "execute_result"
    }
   ],
   "source": [
    "# Training MSE\n",
    "Y_forest_pred_train = forest.predict(X_hos)\n",
    "mean_squared_error(Y_train.values, Y_forest_pred_train)"
   ]
  },
  {
   "cell_type": "code",
   "execution_count": 32,
   "metadata": {},
   "outputs": [
    {
     "data": {
      "text/plain": [
       "0.24863648130946309"
      ]
     },
     "execution_count": 32,
     "metadata": {},
     "output_type": "execute_result"
    }
   ],
   "source": [
    "# Test MSE\n",
    "Y_forest_pred = forest.predict(X_test)\n",
    "mean_squared_error(Y_test.values, Y_forest_pred)"
   ]
  },
  {
   "cell_type": "code",
   "execution_count": 33,
   "metadata": {},
   "outputs": [
    {
     "data": {
      "text/plain": [
       "([], <a list of 0 Text xticklabel objects>)"
      ]
     },
     "execution_count": 33,
     "metadata": {},
     "output_type": "execute_result"
    },
    {
     "data": {
      "image/png": "[encoded data removed]",
      "text/plain": [
       "<matplotlib.figure.Figure at 0x113d22790>"
      ]
     },
     "metadata": {},
     "output_type": "display_data"
    }
   ],
   "source": [
    "x = list(range(1, len(Y_test)+1, 1))\n",
    "plt.scatter(x,Y_test.values,color='red')\n",
    "plt.scatter(x,Y_forest_pred)\n",
    "plt.title('Predicted Charges (in blue) vs. Real Charges (in red)')\n",
    "plt.ylabel('Amount of Charges($)')\n",
    "plt.xticks([])"
   ]
  },
  {
   "cell_type": "code",
   "execution_count": 34,
   "metadata": {},
   "outputs": [
    {
     "name": "stdout",
     "output_type": "stream",
     "text": [
      "[  6.01530346e-01   8.59356292e-03   6.34838179e-03   7.07705667e-03\n",
      "   1.79048910e-03   1.63498311e-03   1.92444636e-03   1.26603836e-02\n",
      "   2.12691765e-02   2.45498720e-03   1.99421171e-03   5.25088626e-03\n",
      "   1.08020050e-02   1.13859877e-02   8.40838394e-03   4.50062479e-03\n",
      "   4.17565384e-03   6.56988794e-03   6.79568777e-03   5.74436015e-03\n",
      "   2.05207702e-03   2.19250683e-02   1.26462660e-01   2.18738352e-04\n",
      "   2.02458849e-06   4.70380627e-04   5.16276385e-04   1.51383582e-03\n",
      "   2.49042097e-03   2.45417641e-03   4.79330061e-03   3.49415132e-03\n",
      "   5.95240382e-03   8.60380950e-06   4.38428788e-05   4.49085752e-06\n",
      "   2.91988466e-04   3.49368884e-04   2.24848190e-04   5.55452259e-04\n",
      "   3.12928302e-04   8.83909391e-04   9.58986360e-03   6.02679080e-03\n",
      "   1.02943628e-02   5.50451538e-03   9.43368193e-03   1.38410364e-02\n",
      "   5.73993396e-03   2.10169050e-02   7.60508643e-03   2.98088540e-03\n",
      "   2.03448912e-03]\n"
     ]
    }
   ],
   "source": [
    "print(forest.feature_importances_)"
   ]
  },
  {
   "cell_type": "code",
   "execution_count": 8,
   "metadata": {},
   "outputs": [
    {
     "name": "stdout",
     "output_type": "stream",
     "text": [
      "0.190318974683\n"
     ]
    }
   ],
   "source": [
    "# Random Forest with max_depth = 100, n_estimators=5\n",
    "forest = RandomForestRegressor(max_depth=100, random_state=0, n_estimators=5)\n",
    "forest.fit(X_hos, Y_train)\n",
    "# Converge since max_depth = 100\n",
    "# Training MSE\n",
    "Y_forest_pred_train = forest.predict(X_hos)\n",
    "print(mean_squared_error(Y_train.values, Y_forest_pred_train))"
   ]
  },
  {
   "cell_type": "code",
   "execution_count": 15,
   "metadata": {
    "scrolled": false
   },
   "outputs": [
    {
     "name": "stdout",
     "output_type": "stream",
     "text": [
      "0.251403700454\n"
     ]
    },
    {
     "data": {
      "text/plain": [
       "([], <a list of 0 Text xticklabel objects>)"
      ]
     },
     "execution_count": 15,
     "metadata": {},
     "output_type": "execute_result"
    },
    {
     "data": {
      "image/png": "[encoded data removed]",
      "text/plain": [
       "<matplotlib.figure.Figure at 0x12c1b79d0>"
      ]
     },
     "metadata": {},
     "output_type": "display_data"
    }
   ],
   "source": [
    "# Test MSE\n",
    "Y_forest_pred = forest.predict(X_test)\n",
    "print(mean_squared_error(Y_test.values, Y_forest_pred))\n",
    "x = list(range(1, len(Y_test)+1, 1))\n",
    "plt.scatter(x,Y_test.values,color='red')\n",
    "plt.scatter(x,Y_forest_pred)\n",
    "plt.title('Predicted Charges (in blue) vs. Real Charges (in red)')\n",
    "plt.ylabel('Amount of Charges($)')\n",
    "plt.xticks([])"
   ]
  },
  {
   "cell_type": "code",
   "execution_count": null,
   "metadata": {
    "collapsed": true
   },
   "outputs": [],
   "source": [
    "# Random Forest with best number of trees from 10 to 19\n",
    "test_mse = []\n",
    "for n in range(10):\n",
    "    forest = RandomForestRegressor(max_depth=100, random_state=0, n_estimators=n+10)\n",
    "    forest.fit(X_hos, Y_train)\n",
    "    Y_forest_pred = forest.predict(X_test)\n",
    "    test_mse.append(mean_squared_error(Y_test.values, Y_forest_pred))"
   ]
  },
  {
   "cell_type": "code",
   "execution_count": 36,
   "metadata": {
    "scrolled": true
   },
   "outputs": [
    {
     "data": {
      "text/plain": [
       "[0.25257825679190243,\n",
       " 0.25132926936598204,\n",
       " 0.25035713787265373,\n",
       " 0.24967498073998107,\n",
       " 0.24915321955690545,\n",
       " 0.24863648130946309,\n",
       " 0.24818530726881383,\n",
       " 0.24784201012303489,\n",
       " 0.2476050655351123,\n",
       " 0.2474088043551477]"
      ]
     },
     "execution_count": 36,
     "metadata": {},
     "output_type": "execute_result"
    }
   ],
   "source": [
    "test_mse"
   ]
  },
  {
   "cell_type": "code",
   "execution_count": 7,
   "metadata": {},
   "outputs": [
    {
     "data": {
      "text/plain": [
       "[0.24765596895595637,\n",
       " 0.2475516262121201,\n",
       " 0.24747392455403111,\n",
       " 0.24737094140142385,\n",
       " 0.24729902558613734,\n",
       " 0.24724611211425815,\n",
       " 0.24721694504644717,\n",
       " 0.24716769843743916,\n",
       " 0.24713255599745523,\n",
       " 0.24708765783900893]"
      ]
     },
     "execution_count": 7,
     "metadata": {},
     "output_type": "execute_result"
    }
   ],
   "source": [
    "# Random Forest with best number of trees from 20 to 29\n",
    "test_mse = []\n",
    "for n in range(10):\n",
    "    forest = RandomForestRegressor(max_depth=100, random_state=0, n_estimators=n+20)\n",
    "    forest.fit(X_hos, Y_train)\n",
    "    Y_forest_pred = forest.predict(X_test)\n",
    "    test_mse.append(mean_squared_error(Y_test.values, Y_forest_pred))\n",
    "test_mse"
   ]
  },
  {
   "cell_type": "code",
   "execution_count": 7,
   "metadata": {},
   "outputs": [
    {
     "data": {
      "text/plain": [
       "[0.28994957031626645,\n",
       " 0.238997214802943,\n",
       " 0.24587049501070835,\n",
       " 0.24897332615687068,\n",
       " 0.24902414156592856,\n",
       " 0.24902414156592856,\n",
       " 0.24902414156592856,\n",
       " 0.24902414156592856,\n",
       " 0.24902414156592856,\n",
       " 0.24902414156592856,\n",
       " 0.24902414156592856,\n",
       " 0.24902414156592856,\n",
       " 0.24902414156592856,\n",
       " 0.24902414156592856,\n",
       " 0.24902414156592856]"
      ]
     },
     "execution_count": 7,
     "metadata": {},
     "output_type": "execute_result"
    }
   ],
   "source": [
    "# Random Forest converges, n_estimators=10\n",
    "test_mse = []\n",
    "for n in range(15):\n",
    "    forest = RandomForestRegressor(max_depth=(n+1)*10, random_state=0, n_estimators=10)\n",
    "    forest.fit(X_hos, Y_train)\n",
    "    Y_forest_pred = forest.predict(X_test)\n",
    "    test_mse.append(mean_squared_error(Y_test.values, Y_forest_pred))\n",
    "test_mse"
   ]
  },
  {
   "cell_type": "code",
   "execution_count": 13,
   "metadata": {},
   "outputs": [
    {
     "data": {
      "text/plain": [
       "<matplotlib.text.Text at 0x127965f90>"
      ]
     },
     "execution_count": 13,
     "metadata": {},
     "output_type": "execute_result"
    },
    {
     "data": {
      "image/png": "[encoded data removed]",
      "text/plain": [
       "<matplotlib.figure.Figure at 0x148eadbd0>"
      ]
     },
     "metadata": {},
     "output_type": "display_data"
    }
   ],
   "source": [
    "test_mse = [0.28994957031626645, 0.238997214802943, 0.24587049501070835, 0.24897332615687068,\\\n",
    " 0.24902414156592856,\\\n",
    " 0.24902414156592856,\\\n",
    " 0.24902414156592856,\\\n",
    " 0.24902414156592856,\\\n",
    " 0.24902414156592856,\\\n",
    " 0.24902414156592856,\\\n",
    " 0.24902414156592856,\\\n",
    " 0.24902414156592856,\\\n",
    " 0.24902414156592856,\\\n",
    " 0.24902414156592856,\\\n",
    " 0.24902414156592856]\n",
    "test_mse_x = [10, 20, 30, 40, 50, 60, 70, 80, 90, 100, 110, 120, 130, 140, 150]\n",
    "plt.plot(test_mse_x,test_mse)\n",
    "plt.title('MSE under Different Maximum Depths')\n",
    "plt.ylabel('MSE')\n",
    "plt.xlabel('Maximum Depth of Random Forest')"
   ]
  },
  {
   "cell_type": "code",
   "execution_count": null,
   "metadata": {},
   "outputs": [],
   "source": [
    "# Random Forest with best number of trees from 10 to 100, max_depth = 20\n",
    "test_mse = []\n",
    "for n in range(10):\n",
    "    forest = RandomForestRegressor(max_depth=20, random_state=0, n_estimators=(n+1)*10)\n",
    "    forest.fit(X_hos, Y_train)\n",
    "    Y_forest_pred = forest.predict(X_test)\n",
    "    test_mse.append(mean_squared_error(Y_test.values, Y_forest_pred))\n",
    "    print(mean_squared_error(Y_test.values, Y_forest_pred))"
   ]
  },
  {
   "cell_type": "code",
   "execution_count": 40,
   "metadata": {
    "scrolled": true
   },
   "outputs": [
    {
     "data": {
      "text/plain": [
       "<matplotlib.text.Text at 0x128539cd0>"
      ]
     },
     "execution_count": 40,
     "metadata": {},
     "output_type": "execute_result"
    },
    {
     "data": {
      "image/png": "[encoded data removed]",
      "text/plain": [
       "<matplotlib.figure.Figure at 0x1284363d0>"
      ]
     },
     "metadata": {},
     "output_type": "display_data"
    }
   ],
   "source": [
    "test_mse_x = [10, 20, 30, 40, 50, 60, 70, 80, 90, 100]\n",
    "plt.plot(test_mse_x,test_mse)\n",
    "plt.title('MSE under Different Number of Trees')\n",
    "plt.ylabel('MSE')\n",
    "plt.xlabel('Number of Trees')"
   ]
  },
  {
   "cell_type": "code",
   "execution_count": 41,
   "metadata": {},
   "outputs": [
    {
     "data": {
      "text/plain": [
       "[0.23981532886904042,\n",
       " 0.23886333338928564,\n",
       " 0.23851512045764361,\n",
       " 0.23836429185679842,\n",
       " 0.23827375174728321,\n",
       " 0.23818128064459138,\n",
       " 0.23812181333509569,\n",
       " 0.23808079036031382,\n",
       " 0.23808079036031382,\n",
       " 0.23808079036031382]"
      ]
     },
     "execution_count": 41,
     "metadata": {},
     "output_type": "execute_result"
    }
   ],
   "source": [
    "test_mse"
   ]
  },
  {
   "cell_type": "code",
   "execution_count": 31,
   "metadata": {},
   "outputs": [
    {
     "data": {
      "text/plain": [
       "<matplotlib.text.Text at 0x127ce2f10>"
      ]
     },
     "execution_count": 31,
     "metadata": {},
     "output_type": "execute_result"
    },
    {
     "data": {
      "image/png": "[encoded data removed]",
      "text/plain": [
       "<matplotlib.figure.Figure at 0x1294119d0>"
      ]
     },
     "metadata": {},
     "output_type": "display_data"
    }
   ],
   "source": [
    "plt.hist(total_data['Total Charges'],bins =100)\n",
    "plt.title('Distribution of ln(Charges)')\n",
    "plt.xlabel('ln(Total Charges)')\n",
    "plt.ylabel('Frequency')"
   ]
  },
  {
   "cell_type": "code",
   "execution_count": 42,
   "metadata": {},
   "outputs": [
    {
     "name": "stdout",
     "output_type": "stream",
     "text": [
      "0.212944081213\n",
      "0.23808079036\n"
     ]
    },
    {
     "data": {
      "text/plain": [
       "<matplotlib.legend.Legend at 0x12820e910>"
      ]
     },
     "execution_count": 42,
     "metadata": {},
     "output_type": "execute_result"
    },
    {
     "data": {
      "image/png": "[encoded data removed]",
      "text/plain": [
       "<matplotlib.figure.Figure at 0x128539710>"
      ]
     },
     "metadata": {},
     "output_type": "display_data"
    }
   ],
   "source": [
    "# Random Forest with max_depth = 20, n_estimators=80\n",
    "forest = RandomForestRegressor(max_depth=20, random_state=0, n_estimators=80)\n",
    "forest.fit(X_hos, Y_train)\n",
    "# Converge since max_depth = 100\n",
    "# Training MSE\n",
    "Y_forest_pred_train = forest.predict(X_hos)\n",
    "print(mean_squared_error(Y_train.values, Y_forest_pred_train))\n",
    "# Test MSE\n",
    "Y_forest_pred = forest.predict(X_test)\n",
    "print(mean_squared_error(Y_test.values, Y_forest_pred))\n",
    "x = list(range(1, len(Y_test)+1, 1))\n",
    "plt.scatter(x,Y_test.values,color='red',label='Real')\n",
    "plt.scatter(x,Y_forest_pred, label = 'Predicted')\n",
    "plt.title('Random Forest: Predicted Charges vs Real Charges')\n",
    "plt.ylabel('ln(Charges)')\n",
    "plt.legend(loc=1)"
   ]
  },
  {
   "cell_type": "code",
   "execution_count": 47,
   "metadata": {},
   "outputs": [
    {
     "data": {
      "text/plain": [
       "8.826498292050001"
      ]
     },
     "execution_count": 47,
     "metadata": {},
     "output_type": "execute_result"
    }
   ],
   "source": [
    "Y_test.values[1]"
   ]
  },
  {
   "cell_type": "code",
   "execution_count": 48,
   "metadata": {},
   "outputs": [
    {
     "name": "stdout",
     "output_type": "stream",
     "text": [
      "155409\n",
      "0\n"
     ]
    }
   ],
   "source": [
    "count = 0\n",
    "for i in range(321530):\n",
    "    if (Y_test.values[i] > Y_forest_pred[i]):\n",
    "        count = count + 1\n",
    "print(count)\n",
    "print(count/len(Y_test))"
   ]
  },
  {
   "cell_type": "code",
   "execution_count": 50,
   "metadata": {},
   "outputs": [
    {
     "data": {
      "text/plain": [
       "0.48334214536746184"
      ]
     },
     "execution_count": 50,
     "metadata": {},
     "output_type": "execute_result"
    }
   ],
   "source": [
    "155409.0/len(Y_test)"
   ]
  },
  {
   "cell_type": "code",
   "execution_count": 51,
   "metadata": {},
   "outputs": [
    {
     "name": "stdout",
     "output_type": "stream",
     "text": [
      "166121\n",
      "0\n"
     ]
    }
   ],
   "source": [
    "count = 0\n",
    "for i in range(321530):\n",
    "    if (Y_test.values[i] < Y_forest_pred[i]):\n",
    "        count = count + 1\n",
    "print(count)\n",
    "print(count/len(Y_test))"
   ]
  },
  {
   "cell_type": "code",
   "execution_count": 52,
   "metadata": {},
   "outputs": [
    {
     "data": {
      "text/plain": [
       "0.5166578546325382"
      ]
     },
     "execution_count": 52,
     "metadata": {},
     "output_type": "execute_result"
    }
   ],
   "source": [
    "166121.0/len(Y_test)"
   ]
  },
  {
   "cell_type": "code",
   "execution_count": null,
   "metadata": {
    "collapsed": true
   },
   "outputs": [],
   "source": []
  }
 ],
 "metadata": {
  "kernelspec": {
   "display_name": "Python [default]",
   "language": "python",
   "name": "python2"
  },
  "language_info": {
   "codemirror_mode": {
    "name": "ipython",
    "version": 2
   },
   "file_extension": ".py",
   "mimetype": "text/x-python",
   "name": "python",
   "nbconvert_exporter": "python",
   "pygments_lexer": "ipython2",
   "version": "2.7.13"
  }
 },
 "nbformat": 4,
 "nbformat_minor": 2
}
